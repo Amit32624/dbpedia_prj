{
 "cells": [
  {
   "cell_type": "code",
   "execution_count": 1,
   "id": "indonesian-prescription",
   "metadata": {},
   "outputs": [
    {
     "data": {
      "text/html": [
       "<div>\n",
       "<style scoped>\n",
       "    .dataframe tbody tr th:only-of-type {\n",
       "        vertical-align: middle;\n",
       "    }\n",
       "\n",
       "    .dataframe tbody tr th {\n",
       "        vertical-align: top;\n",
       "    }\n",
       "\n",
       "    .dataframe thead th {\n",
       "        text-align: right;\n",
       "    }\n",
       "</style>\n",
       "<table border=\"1\" class=\"dataframe\">\n",
       "  <thead>\n",
       "    <tr style=\"text-align: right;\">\n",
       "      <th></th>\n",
       "      <th>label.value</th>\n",
       "      <th>abstract.value</th>\n",
       "      <th>words_string</th>\n",
       "    </tr>\n",
       "  </thead>\n",
       "  <tbody>\n",
       "    <tr>\n",
       "      <th>0</th>\n",
       "      <td>Implantable loop recorder</td>\n",
       "      <td>An implantable loop recorder (ILR), also known...</td>\n",
       "      <td>Implants_(medicine)</td>\n",
       "    </tr>\n",
       "    <tr>\n",
       "      <th>1</th>\n",
       "      <td>Health Canada</td>\n",
       "      <td>Health Canada (HC; French: Santé Canada, SC) i...</td>\n",
       "      <td>Regulation_of_medical_devices</td>\n",
       "    </tr>\n",
       "    <tr>\n",
       "      <th>2</th>\n",
       "      <td>Visual prosthesis</td>\n",
       "      <td>A visual prosthesis, often referred to as a bi...</td>\n",
       "      <td>Implants_(medicine),Neuroprosthetics</td>\n",
       "    </tr>\n",
       "    <tr>\n",
       "      <th>3</th>\n",
       "      <td>Medical Devices Directive</td>\n",
       "      <td>The Medical Device Directive (Council Directiv...</td>\n",
       "      <td>Regulation_of_medical_devices</td>\n",
       "    </tr>\n",
       "    <tr>\n",
       "      <th>4</th>\n",
       "      <td>Nasal spray</td>\n",
       "      <td>Nasal sprays are used to deliver medications l...</td>\n",
       "      <td>Drug_delivery_devices,Nasal_sprays</td>\n",
       "    </tr>\n",
       "  </tbody>\n",
       "</table>\n",
       "</div>"
      ],
      "text/plain": [
       "                 label.value  \\\n",
       "0  Implantable loop recorder   \n",
       "1              Health Canada   \n",
       "2          Visual prosthesis   \n",
       "3  Medical Devices Directive   \n",
       "4                Nasal spray   \n",
       "\n",
       "                                      abstract.value  \\\n",
       "0  An implantable loop recorder (ILR), also known...   \n",
       "1  Health Canada (HC; French: Santé Canada, SC) i...   \n",
       "2  A visual prosthesis, often referred to as a bi...   \n",
       "3  The Medical Device Directive (Council Directiv...   \n",
       "4  Nasal sprays are used to deliver medications l...   \n",
       "\n",
       "                           words_string  \n",
       "0                   Implants_(medicine)  \n",
       "1         Regulation_of_medical_devices  \n",
       "2  Implants_(medicine),Neuroprosthetics  \n",
       "3         Regulation_of_medical_devices  \n",
       "4    Drug_delivery_devices,Nasal_sprays  "
      ]
     },
     "execution_count": 1,
     "metadata": {},
     "output_type": "execute_result"
    }
   ],
   "source": [
    "import pandas as pd\n",
    "from pandas import DataFrame, Series\n",
    "\n",
    "df = pd.read_csv('medical_devices_cleanData.csv')\n",
    "df.head()"
   ]
  },
  {
   "cell_type": "code",
   "execution_count": 16,
   "id": "martial-glance",
   "metadata": {},
   "outputs": [],
   "source": [
    "from sklearn.feature_extraction.text import TfidfVectorizer\n",
    "from sklearn.cluster import KMeans\n",
    "from sklearn_pandas import DataFrameMapper\n",
    "from sklearn.cluster import AffinityPropagation\n",
    "from sklearn import metrics\n",
    "from sklearn.datasets import make_blobs\n",
    "from sklearn.feature_extraction.text import CountVectorizer"
   ]
  },
  {
   "cell_type": "code",
   "execution_count": 17,
   "id": "valued-obligation",
   "metadata": {},
   "outputs": [
    {
     "data": {
      "text/plain": [
       "['acid',\n",
       " 'acoustic',\n",
       " 'act',\n",
       " 'action',\n",
       " 'activator',\n",
       " 'acute',\n",
       " 'adaptation',\n",
       " 'adeli',\n",
       " 'adhesion',\n",
       " 'adhesive']"
      ]
     },
     "execution_count": 17,
     "metadata": {},
     "output_type": "execute_result"
    }
   ],
   "source": [
    "mapper = DataFrameMapper([\n",
    "     ('label.value', TfidfVectorizer(stop_words='english')),\n",
    "     ('abstract.value', TfidfVectorizer(stop_words='english')),\n",
    "     ('words_string', CountVectorizer())\n",
    " ],df_out=True)\n",
    "\n",
    "features = mapper.fit_transform(df)\n",
    "X_cols = (\n",
    "            mapper.features[0][1].get_feature_names()\n",
    "            + mapper.features[1][1].get_feature_names()\n",
    "            )\n",
    "X_cols[50:60]"
   ]
  },
  {
   "cell_type": "code",
   "execution_count": 19,
   "id": "equivalent-visitor",
   "metadata": {},
   "outputs": [
    {
     "name": "stderr",
     "output_type": "stream",
     "text": [
      "C:\\ProgramData\\Anaconda3\\lib\\site-packages\\sklearn\\cluster\\_affinity_propagation.py:148: FutureWarning: 'random_state' has been introduced in 0.23. It will be set to None starting from 1.0 (renaming of 0.25) which means that results will differ at every function call. Set 'random_state' to None to silence this warning, or to 0 to keep the behavior of versions <0.23.\n",
      "  warnings.warn(\n"
     ]
    },
    {
     "name": "stdout",
     "output_type": "stream",
     "text": [
      "Converged after 38 iterations.\n",
      "Estimated number of clusters: 133\n"
     ]
    }
   ],
   "source": [
    "af = AffinityPropagation(verbose= True).fit(features)\n",
    "cluster_centers_indices = af.cluster_centers_indices_\n",
    "labels = af.labels_\n",
    "\n",
    "n_clusters_ = len(cluster_centers_indices)\n",
    "\n",
    "print('Estimated number of clusters: %d' % n_clusters_)"
   ]
  },
  {
   "cell_type": "code",
   "execution_count": 25,
   "id": "enormous-aurora",
   "metadata": {},
   "outputs": [],
   "source": [
    "from sklearn.feature_extraction.text import TfidfVectorizer\n",
    "from sklearn.cluster import KMeans\n",
    "\n",
    "vectorizer = TfidfVectorizer(stop_words='english')\n",
    "features = vectorizer.fit_transform(df)"
   ]
  },
  {
   "cell_type": "code",
   "execution_count": 26,
   "id": "dental-imaging",
   "metadata": {},
   "outputs": [
    {
     "name": "stdout",
     "output_type": "stream",
     "text": [
      "3 rows\n"
     ]
    },
    {
     "data": {
      "text/html": [
       "<div>\n",
       "<style scoped>\n",
       "    .dataframe tbody tr th:only-of-type {\n",
       "        vertical-align: middle;\n",
       "    }\n",
       "\n",
       "    .dataframe tbody tr th {\n",
       "        vertical-align: top;\n",
       "    }\n",
       "\n",
       "    .dataframe thead th {\n",
       "        text-align: right;\n",
       "    }\n",
       "</style>\n",
       "<table border=\"1\" class=\"dataframe\">\n",
       "  <thead>\n",
       "    <tr style=\"text-align: right;\">\n",
       "      <th></th>\n",
       "      <th>0</th>\n",
       "      <th>1</th>\n",
       "      <th>2</th>\n",
       "    </tr>\n",
       "  </thead>\n",
       "  <tbody>\n",
       "    <tr>\n",
       "      <th>label</th>\n",
       "      <td>0.795961</td>\n",
       "      <td>0.000000</td>\n",
       "      <td>0.0</td>\n",
       "    </tr>\n",
       "    <tr>\n",
       "      <th>value</th>\n",
       "      <td>0.605349</td>\n",
       "      <td>0.605349</td>\n",
       "      <td>0.0</td>\n",
       "    </tr>\n",
       "    <tr>\n",
       "      <th>abstract</th>\n",
       "      <td>0.000000</td>\n",
       "      <td>0.795961</td>\n",
       "      <td>0.0</td>\n",
       "    </tr>\n",
       "    <tr>\n",
       "      <th>words_string</th>\n",
       "      <td>0.000000</td>\n",
       "      <td>0.000000</td>\n",
       "      <td>1.0</td>\n",
       "    </tr>\n",
       "  </tbody>\n",
       "</table>\n",
       "</div>"
      ],
      "text/plain": [
       "                     0         1    2\n",
       "label         0.795961  0.000000  0.0\n",
       "value         0.605349  0.605349  0.0\n",
       "abstract      0.000000  0.795961  0.0\n",
       "words_string  0.000000  0.000000  1.0"
      ]
     },
     "execution_count": 26,
     "metadata": {},
     "output_type": "execute_result"
    }
   ],
   "source": [
    "tf_idf = pd.DataFrame(data = features.toarray(), columns=vectorizer.get_feature_names())\n",
    "\n",
    "final_df = tf_idf\n",
    "\n",
    "print(\"{} rows\".format(final_df.shape[0]))\n",
    "final_df.T.nlargest(5, 0)"
   ]
  },
  {
   "cell_type": "code",
   "execution_count": 27,
   "id": "surprising-momentum",
   "metadata": {},
   "outputs": [
    {
     "name": "stdout",
     "output_type": "stream",
     "text": [
      "['abstract', 'label', 'value', 'words_string']\n"
     ]
    }
   ],
   "source": [
    "print(vectorizer.get_feature_names())"
   ]
  }
 ],
 "metadata": {
  "kernelspec": {
   "display_name": "Python 3",
   "language": "python",
   "name": "python3"
  },
  "language_info": {
   "codemirror_mode": {
    "name": "ipython",
    "version": 3
   },
   "file_extension": ".py",
   "mimetype": "text/x-python",
   "name": "python",
   "nbconvert_exporter": "python",
   "pygments_lexer": "ipython3",
   "version": "3.8.5"
  }
 },
 "nbformat": 4,
 "nbformat_minor": 5
}
