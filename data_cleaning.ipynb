{
  "nbformat": 4,
  "nbformat_minor": 5,
  "metadata": {
    "kernelspec": {
      "display_name": "Python 3",
      "language": "python",
      "name": "python3"
    },
    "language_info": {
      "codemirror_mode": {
        "name": "ipython",
        "version": 3
      },
      "file_extension": ".py",
      "mimetype": "text/x-python",
      "name": "python",
      "nbconvert_exporter": "python",
      "pygments_lexer": "ipython3",
      "version": "3.8.5"
    },
    "colab": {
      "name": "data_cleaning.ipynb",
      "provenance": []
    }
  },
  "cells": [
    {
      "cell_type": "code",
      "metadata": {
        "id": "placed-wednesday",
        "outputId": "ab43f3c0-7424-44a6-9961-a046230ab608",
        "colab": {
          "resources": {
            "http://localhost:8080/nbextensions/google.colab/files.js": {
              "data": "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",
              "ok": true,
              "headers": [
                [
                  "content-type",
                  "application/javascript"
                ]
              ],
              "status": 200,
              "status_text": ""
            }
          },
          "base_uri": "https://localhost:8080/",
          "height": 72
        }
      },
      "source": [
        "#Reading the csv file of the extracted data\n",
        "import pandas as pd\n",
        "from pandas import DataFrame, Series\n",
        "from google.colab import files\n",
        "uploaded = files.upload()\n",
        "df = pd.read_csv('medical_devices_data.csv')"
      ],
      "id": "placed-wednesday",
      "execution_count": 2,
      "outputs": [
        {
          "output_type": "display_data",
          "data": {
            "text/html": [
              "\n",
              "     <input type=\"file\" id=\"files-6f712446-a075-494a-baab-dedbba50bbcd\" name=\"files[]\" multiple disabled\n",
              "        style=\"border:none\" />\n",
              "     <output id=\"result-6f712446-a075-494a-baab-dedbba50bbcd\">\n",
              "      Upload widget is only available when the cell has been executed in the\n",
              "      current browser session. Please rerun this cell to enable.\n",
              "      </output>\n",
              "      <script src=\"/nbextensions/google.colab/files.js\"></script> "
            ],
            "text/plain": [
              "<IPython.core.display.HTML object>"
            ]
          },
          "metadata": {}
        },
        {
          "output_type": "stream",
          "name": "stdout",
          "text": [
            "Saving medical_devices_data.csv to medical_devices_data.csv\n"
          ]
        }
      ]
    },
    {
      "cell_type": "code",
      "metadata": {
        "id": "collect-cathedral",
        "outputId": "70d0f1f6-e737-43e8-fe3f-2b64557990e3",
        "colab": {
          "base_uri": "https://localhost:8080/",
          "height": 479
        }
      },
      "source": [
        "#Checking the first five rows of the dataframe.\n",
        "df.head()"
      ],
      "id": "collect-cathedral",
      "execution_count": 3,
      "outputs": [
        {
          "output_type": "execute_result",
          "data": {
            "text/html": [
              "<div>\n",
              "<style scoped>\n",
              "    .dataframe tbody tr th:only-of-type {\n",
              "        vertical-align: middle;\n",
              "    }\n",
              "\n",
              "    .dataframe tbody tr th {\n",
              "        vertical-align: top;\n",
              "    }\n",
              "\n",
              "    .dataframe thead th {\n",
              "        text-align: right;\n",
              "    }\n",
              "</style>\n",
              "<table border=\"1\" class=\"dataframe\">\n",
              "  <thead>\n",
              "    <tr style=\"text-align: right;\">\n",
              "      <th></th>\n",
              "      <th>instance.type</th>\n",
              "      <th>instance.value</th>\n",
              "      <th>label.type</th>\n",
              "      <th>label.xml:lang</th>\n",
              "      <th>label.value</th>\n",
              "      <th>comment.type</th>\n",
              "      <th>comment.xml:lang</th>\n",
              "      <th>comment.value</th>\n",
              "      <th>abstract.type</th>\n",
              "      <th>abstract.xml:lang</th>\n",
              "      <th>abstract.value</th>\n",
              "      <th>wikicategories.type</th>\n",
              "      <th>wikicategories.value</th>\n",
              "      <th>DBpediaOntology.type</th>\n",
              "      <th>DBpediaOntology.value</th>\n",
              "    </tr>\n",
              "  </thead>\n",
              "  <tbody>\n",
              "    <tr>\n",
              "      <th>0</th>\n",
              "      <td>uri</td>\n",
              "      <td>http://dbpedia.org/resource/Implantable_loop_r...</td>\n",
              "      <td>literal</td>\n",
              "      <td>en</td>\n",
              "      <td>Implantable loop recorder</td>\n",
              "      <td>literal</td>\n",
              "      <td>en</td>\n",
              "      <td>An implantable loop recorder (ILR), also known...</td>\n",
              "      <td>literal</td>\n",
              "      <td>en</td>\n",
              "      <td>An implantable loop recorder (ILR), also known...</td>\n",
              "      <td>literal</td>\n",
              "      <td>http://dbpedia.org/resource/Category:Implants_...</td>\n",
              "      <td>literal</td>\n",
              "      <td>http://dbpedia.org/class/yago/Abstraction10000...</td>\n",
              "    </tr>\n",
              "    <tr>\n",
              "      <th>1</th>\n",
              "      <td>uri</td>\n",
              "      <td>http://dbpedia.org/resource/Health_Canada</td>\n",
              "      <td>literal</td>\n",
              "      <td>en</td>\n",
              "      <td>Health Canada</td>\n",
              "      <td>literal</td>\n",
              "      <td>en</td>\n",
              "      <td>Health Canada (HC; French: Santé Canada, SC) i...</td>\n",
              "      <td>literal</td>\n",
              "      <td>en</td>\n",
              "      <td>Health Canada (HC; French: Santé Canada, SC) i...</td>\n",
              "      <td>literal</td>\n",
              "      <td>http://dbpedia.org/resource/Category:Regulatio...</td>\n",
              "      <td>literal</td>\n",
              "      <td>http://dbpedia.org/class/yago/Abstraction10000...</td>\n",
              "    </tr>\n",
              "    <tr>\n",
              "      <th>2</th>\n",
              "      <td>uri</td>\n",
              "      <td>http://dbpedia.org/resource/Visual_prosthesis</td>\n",
              "      <td>literal</td>\n",
              "      <td>en</td>\n",
              "      <td>Visual prosthesis</td>\n",
              "      <td>literal</td>\n",
              "      <td>en</td>\n",
              "      <td>A visual prosthesis, often referred to as a bi...</td>\n",
              "      <td>literal</td>\n",
              "      <td>en</td>\n",
              "      <td>A visual prosthesis, often referred to as a bi...</td>\n",
              "      <td>literal</td>\n",
              "      <td>http://dbpedia.org/resource/Category:Implants_...</td>\n",
              "      <td>literal</td>\n",
              "      <td>http://dbpedia.org/class/yago/Artifact10002193...</td>\n",
              "    </tr>\n",
              "    <tr>\n",
              "      <th>3</th>\n",
              "      <td>uri</td>\n",
              "      <td>http://dbpedia.org/resource/Medical_Devices_Di...</td>\n",
              "      <td>literal</td>\n",
              "      <td>en</td>\n",
              "      <td>Medical Devices Directive</td>\n",
              "      <td>literal</td>\n",
              "      <td>en</td>\n",
              "      <td>The Medical Device Directive (Council Directiv...</td>\n",
              "      <td>literal</td>\n",
              "      <td>en</td>\n",
              "      <td>The Medical Device Directive (Council Directiv...</td>\n",
              "      <td>literal</td>\n",
              "      <td>http://dbpedia.org/resource/Category:Regulatio...</td>\n",
              "      <td>literal</td>\n",
              "      <td>http://dbpedia.org/class/yago/Abstraction10000...</td>\n",
              "    </tr>\n",
              "    <tr>\n",
              "      <th>4</th>\n",
              "      <td>uri</td>\n",
              "      <td>http://dbpedia.org/resource/Nasal_spray</td>\n",
              "      <td>literal</td>\n",
              "      <td>en</td>\n",
              "      <td>Nasal spray</td>\n",
              "      <td>literal</td>\n",
              "      <td>en</td>\n",
              "      <td>Nasal sprays are used to deliver medications l...</td>\n",
              "      <td>literal</td>\n",
              "      <td>en</td>\n",
              "      <td>Nasal sprays are used to deliver medications l...</td>\n",
              "      <td>literal</td>\n",
              "      <td>http://dbpedia.org/resource/Category:Drug_deli...</td>\n",
              "      <td>literal</td>\n",
              "      <td>http://dbpedia.org/class/yago/Abstraction10000...</td>\n",
              "    </tr>\n",
              "  </tbody>\n",
              "</table>\n",
              "</div>"
            ],
            "text/plain": [
              "  instance.type  ...                              DBpediaOntology.value\n",
              "0           uri  ...  http://dbpedia.org/class/yago/Abstraction10000...\n",
              "1           uri  ...  http://dbpedia.org/class/yago/Abstraction10000...\n",
              "2           uri  ...  http://dbpedia.org/class/yago/Artifact10002193...\n",
              "3           uri  ...  http://dbpedia.org/class/yago/Abstraction10000...\n",
              "4           uri  ...  http://dbpedia.org/class/yago/Abstraction10000...\n",
              "\n",
              "[5 rows x 15 columns]"
            ]
          },
          "metadata": {},
          "execution_count": 3
        }
      ]
    },
    {
      "cell_type": "code",
      "metadata": {
        "id": "unusual-manor",
        "outputId": "e96dcdf8-e23f-40f9-a4a6-9df9369bdd7a",
        "colab": {
          "base_uri": "https://localhost:8080/"
        }
      },
      "source": [
        "#Checking the name of the columns and the number of records in the data-frame.\n",
        "print(df.columns)\n",
        "print(df.shape)"
      ],
      "id": "unusual-manor",
      "execution_count": 4,
      "outputs": [
        {
          "output_type": "stream",
          "name": "stdout",
          "text": [
            "Index(['instance.type', 'instance.value', 'label.type', 'label.xml:lang',\n",
            "       'label.value', 'comment.type', 'comment.xml:lang', 'comment.value',\n",
            "       'abstract.type', 'abstract.xml:lang', 'abstract.value',\n",
            "       'wikicategories.type', 'wikicategories.value', 'DBpediaOntology.type',\n",
            "       'DBpediaOntology.value'],\n",
            "      dtype='object')\n",
            "(427, 15)\n"
          ]
        }
      ]
    },
    {
      "cell_type": "code",
      "metadata": {
        "scrolled": true,
        "id": "approved-bhutan"
      },
      "source": [
        "#Dropping the values if any duplicates\n",
        "df = df.drop_duplicates()"
      ],
      "id": "approved-bhutan",
      "execution_count": 6,
      "outputs": []
    },
    {
      "cell_type": "code",
      "metadata": {
        "id": "IOoaW-RM55x8",
        "outputId": "6a0ef6e0-c20a-42f7-813a-5b5f179b27e8",
        "colab": {
          "base_uri": "https://localhost:8080/"
        }
      },
      "source": [
        "df.shape # No presence of duplicate records"
      ],
      "id": "IOoaW-RM55x8",
      "execution_count": 7,
      "outputs": [
        {
          "output_type": "execute_result",
          "data": {
            "text/plain": [
              "(427, 15)"
            ]
          },
          "metadata": {},
          "execution_count": 7
        }
      ]
    },
    {
      "cell_type": "code",
      "metadata": {
        "id": "numerical-brown",
        "outputId": "1fb1d1ce-2cec-4282-a6ad-66ecbcc95052",
        "colab": {
          "base_uri": "https://localhost:8080/",
          "height": 52
        }
      },
      "source": [
        "#Randomly checking the value \n",
        "df['comment.value'][5]"
      ],
      "id": "numerical-brown",
      "execution_count": 8,
      "outputs": [
        {
          "output_type": "execute_result",
          "data": {
            "application/vnd.google.colaboratory.intrinsic+json": {
              "type": "string"
            },
            "text/plain": [
              "'A sacral nerve stimulator is a small device implanted in the buttocks of people who have problems with bladder and/or bowel control. This device is implanted in the buttock and connected to the sacral nerve by a wire. The device stops urges to defecate and urinate by sending signals to the sacral nerve. The patient is able to control their bladder and/or bowel via an external device similar to a remote control.'"
            ]
          },
          "metadata": {},
          "execution_count": 8
        }
      ]
    },
    {
      "cell_type": "code",
      "metadata": {
        "id": "crucial-double",
        "outputId": "f3402a02-cb96-400b-c4ee-b44093bc053f",
        "colab": {
          "base_uri": "https://localhost:8080/"
        }
      },
      "source": [
        "#Checking if any same name of devices or equipments are inin the data-frame\n",
        "df['label.value'].value_counts()"
      ],
      "id": "crucial-double",
      "execution_count": 9,
      "outputs": [
        {
          "output_type": "execute_result",
          "data": {
            "text/plain": [
              "Thomas Stretcher                              1\n",
              "Intuitive Surgical                            1\n",
              "Safety syringe                                1\n",
              "Medical Device Radiocommunications Service    1\n",
              "Subdermal implant                             1\n",
              "                                             ..\n",
              "Medical uses of silver                        1\n",
              "Health Canada                                 1\n",
              "CardiacSense Ltd                              1\n",
              "Nanoneedle                                    1\n",
              "Kirschner wire                                1\n",
              "Name: label.value, Length: 427, dtype: int64"
            ]
          },
          "metadata": {},
          "execution_count": 9
        }
      ]
    },
    {
      "cell_type": "code",
      "metadata": {
        "id": "incomplete-general"
      },
      "source": [
        "#Dropping unwanted columns\n",
        "df_new =df.drop(['instance.type','label.type','label.xml:lang','comment.type','abstract.type','abstract.xml:lang','comment.xml:lang','wikicategories.type',\n",
        "         'DBpediaOntology.type'], axis=1)"
      ],
      "id": "incomplete-general",
      "execution_count": 10,
      "outputs": []
    },
    {
      "cell_type": "code",
      "metadata": {
        "id": "handled-hindu",
        "outputId": "bda7fcae-03b3-40af-d7da-43ebce3048fc",
        "colab": {
          "base_uri": "https://localhost:8080/",
          "height": 69
        }
      },
      "source": [
        "#Checking for the specic column value\n",
        "df_new['comment.value'][2]"
      ],
      "id": "handled-hindu",
      "execution_count": 11,
      "outputs": [
        {
          "output_type": "execute_result",
          "data": {
            "application/vnd.google.colaboratory.intrinsic+json": {
              "type": "string"
            },
            "text/plain": [
              "'A visual prosthesis, often referred to as a bionic eye, is an experimental visual device intended to restore functional vision in those suffering from partial or total blindness. Many devices have been developed, usually modeled on the cochlear implant or bionic ear devices, a type of neural prosthesis in use since the mid-1980s. The idea of using electrical current (e.g., electrically stimulating the retina or the visual cortex) to provide sight dates back to the 18th century, discussed by Benjamin Franklin, Tiberius Cavallo, and Charles LeRoy.'"
            ]
          },
          "metadata": {},
          "execution_count": 11
        }
      ]
    },
    {
      "cell_type": "code",
      "metadata": {
        "id": "legal-prefix",
        "outputId": "89fd3446-c85a-41f2-9fbe-f649652051ea",
        "colab": {
          "base_uri": "https://localhost:8080/",
          "height": 69
        }
      },
      "source": [
        "#Checking for the specic column value\n",
        "df_new['abstract.value'][2]"
      ],
      "id": "legal-prefix",
      "execution_count": 12,
      "outputs": [
        {
          "output_type": "execute_result",
          "data": {
            "application/vnd.google.colaboratory.intrinsic+json": {
              "type": "string"
            },
            "text/plain": [
              "'A visual prosthesis, often referred to as a bionic eye, is an experimental visual device intended to restore functional vision in those suffering from partial or total blindness. Many devices have been developed, usually modeled on the cochlear implant or bionic ear devices, a type of neural prosthesis in use since the mid-1980s. The idea of using electrical current (e.g., electrically stimulating the retina or the visual cortex) to provide sight dates back to the 18th century, discussed by Benjamin Franklin, Tiberius Cavallo, and Charles LeRoy.'"
            ]
          },
          "metadata": {},
          "execution_count": 12
        }
      ]
    },
    {
      "cell_type": "code",
      "metadata": {
        "id": "foster-crystal",
        "outputId": "d01e189a-5296-495b-ade8-9d702a4fa120",
        "colab": {
          "base_uri": "https://localhost:8080/",
          "height": 35
        }
      },
      "source": [
        "#Checking for the specic column value\n",
        "df_new['wikicategories.value'][4]"
      ],
      "id": "foster-crystal",
      "execution_count": 13,
      "outputs": [
        {
          "output_type": "execute_result",
          "data": {
            "application/vnd.google.colaboratory.intrinsic+json": {
              "type": "string"
            },
            "text/plain": [
              "'http://dbpedia.org/resource/Category:Drug_delivery_devices | http://dbpedia.org/resource/Category:Nasal_sprays'"
            ]
          },
          "metadata": {},
          "execution_count": 13
        }
      ]
    },
    {
      "cell_type": "code",
      "metadata": {
        "id": "assured-camping"
      },
      "source": [
        "#Defining the function to extract 'medical device categories name' from the URL link\n",
        "#of the 'wikicategories.value' column values. \n",
        "import re\n",
        "def cat(category):\n",
        "    match = re.compile(r'Category:(\\S+)?')\n",
        "    return([m for m in match.findall(category)])"
      ],
      "id": "assured-camping",
      "execution_count": 14,
      "outputs": []
    },
    {
      "cell_type": "code",
      "metadata": {
        "id": "biblical-trader"
      },
      "source": [
        "#Inserting the new values into the new column name 'category' after appyyling the function\n",
        "df_new['category'] =df_new['wikicategories.value'].apply(cat)"
      ],
      "id": "biblical-trader",
      "execution_count": 15,
      "outputs": []
    },
    {
      "cell_type": "code",
      "metadata": {
        "id": "american-cabinet",
        "outputId": "f9fdc2b8-fa8a-429c-84ed-420aca132028",
        "colab": {
          "base_uri": "https://localhost:8080/"
        }
      },
      "source": [
        "df_new['category'][4]"
      ],
      "id": "american-cabinet",
      "execution_count": 16,
      "outputs": [
        {
          "output_type": "execute_result",
          "data": {
            "text/plain": [
              "['Drug_delivery_devices', 'Nasal_sprays']"
            ]
          },
          "metadata": {},
          "execution_count": 16
        }
      ]
    },
    {
      "cell_type": "code",
      "metadata": {
        "id": "central-perspective",
        "outputId": "402cedc9-cb57-4e47-a2a3-f7bc04283eb7",
        "colab": {
          "base_uri": "https://localhost:8080/",
          "height": 289
        }
      },
      "source": [
        "df_new.head()"
      ],
      "id": "central-perspective",
      "execution_count": 17,
      "outputs": [
        {
          "output_type": "execute_result",
          "data": {
            "text/html": [
              "<div>\n",
              "<style scoped>\n",
              "    .dataframe tbody tr th:only-of-type {\n",
              "        vertical-align: middle;\n",
              "    }\n",
              "\n",
              "    .dataframe tbody tr th {\n",
              "        vertical-align: top;\n",
              "    }\n",
              "\n",
              "    .dataframe thead th {\n",
              "        text-align: right;\n",
              "    }\n",
              "</style>\n",
              "<table border=\"1\" class=\"dataframe\">\n",
              "  <thead>\n",
              "    <tr style=\"text-align: right;\">\n",
              "      <th></th>\n",
              "      <th>instance.value</th>\n",
              "      <th>label.value</th>\n",
              "      <th>comment.value</th>\n",
              "      <th>abstract.value</th>\n",
              "      <th>wikicategories.value</th>\n",
              "      <th>DBpediaOntology.value</th>\n",
              "      <th>category</th>\n",
              "    </tr>\n",
              "  </thead>\n",
              "  <tbody>\n",
              "    <tr>\n",
              "      <th>0</th>\n",
              "      <td>http://dbpedia.org/resource/Implantable_loop_r...</td>\n",
              "      <td>Implantable loop recorder</td>\n",
              "      <td>An implantable loop recorder (ILR), also known...</td>\n",
              "      <td>An implantable loop recorder (ILR), also known...</td>\n",
              "      <td>http://dbpedia.org/resource/Category:Implants_...</td>\n",
              "      <td>http://dbpedia.org/class/yago/Abstraction10000...</td>\n",
              "      <td>[Implants_(medicine)]</td>\n",
              "    </tr>\n",
              "    <tr>\n",
              "      <th>1</th>\n",
              "      <td>http://dbpedia.org/resource/Health_Canada</td>\n",
              "      <td>Health Canada</td>\n",
              "      <td>Health Canada (HC; French: Santé Canada, SC) i...</td>\n",
              "      <td>Health Canada (HC; French: Santé Canada, SC) i...</td>\n",
              "      <td>http://dbpedia.org/resource/Category:Regulatio...</td>\n",
              "      <td>http://dbpedia.org/class/yago/Abstraction10000...</td>\n",
              "      <td>[Regulation_of_medical_devices]</td>\n",
              "    </tr>\n",
              "    <tr>\n",
              "      <th>2</th>\n",
              "      <td>http://dbpedia.org/resource/Visual_prosthesis</td>\n",
              "      <td>Visual prosthesis</td>\n",
              "      <td>A visual prosthesis, often referred to as a bi...</td>\n",
              "      <td>A visual prosthesis, often referred to as a bi...</td>\n",
              "      <td>http://dbpedia.org/resource/Category:Implants_...</td>\n",
              "      <td>http://dbpedia.org/class/yago/Artifact10002193...</td>\n",
              "      <td>[Implants_(medicine), Neuroprosthetics]</td>\n",
              "    </tr>\n",
              "    <tr>\n",
              "      <th>3</th>\n",
              "      <td>http://dbpedia.org/resource/Medical_Devices_Di...</td>\n",
              "      <td>Medical Devices Directive</td>\n",
              "      <td>The Medical Device Directive (Council Directiv...</td>\n",
              "      <td>The Medical Device Directive (Council Directiv...</td>\n",
              "      <td>http://dbpedia.org/resource/Category:Regulatio...</td>\n",
              "      <td>http://dbpedia.org/class/yago/Abstraction10000...</td>\n",
              "      <td>[Regulation_of_medical_devices]</td>\n",
              "    </tr>\n",
              "    <tr>\n",
              "      <th>4</th>\n",
              "      <td>http://dbpedia.org/resource/Nasal_spray</td>\n",
              "      <td>Nasal spray</td>\n",
              "      <td>Nasal sprays are used to deliver medications l...</td>\n",
              "      <td>Nasal sprays are used to deliver medications l...</td>\n",
              "      <td>http://dbpedia.org/resource/Category:Drug_deli...</td>\n",
              "      <td>http://dbpedia.org/class/yago/Abstraction10000...</td>\n",
              "      <td>[Drug_delivery_devices, Nasal_sprays]</td>\n",
              "    </tr>\n",
              "  </tbody>\n",
              "</table>\n",
              "</div>"
            ],
            "text/plain": [
              "                                      instance.value  ...                                 category\n",
              "0  http://dbpedia.org/resource/Implantable_loop_r...  ...                    [Implants_(medicine)]\n",
              "1          http://dbpedia.org/resource/Health_Canada  ...          [Regulation_of_medical_devices]\n",
              "2      http://dbpedia.org/resource/Visual_prosthesis  ...  [Implants_(medicine), Neuroprosthetics]\n",
              "3  http://dbpedia.org/resource/Medical_Devices_Di...  ...          [Regulation_of_medical_devices]\n",
              "4            http://dbpedia.org/resource/Nasal_spray  ...    [Drug_delivery_devices, Nasal_sprays]\n",
              "\n",
              "[5 rows x 7 columns]"
            ]
          },
          "metadata": {},
          "execution_count": 17
        }
      ]
    },
    {
      "cell_type": "code",
      "metadata": {
        "id": "stupid-subscriber",
        "outputId": "a9ab4b83-648c-4783-83e5-dc709fff332e",
        "colab": {
          "base_uri": "https://localhost:8080/"
        }
      },
      "source": [
        "#Checking for the new column created\n",
        "df_new['category'][2]"
      ],
      "id": "stupid-subscriber",
      "execution_count": 18,
      "outputs": [
        {
          "output_type": "execute_result",
          "data": {
            "text/plain": [
              "['Implants_(medicine)', 'Neuroprosthetics']"
            ]
          },
          "metadata": {},
          "execution_count": 18
        }
      ]
    },
    {
      "cell_type": "code",
      "metadata": {
        "id": "later-literature"
      },
      "source": [
        "# Defining a function to unpack the devices category names from the list in the category column values\n",
        "def join_words(df):\n",
        "    \n",
        "    words_string= ','.join(df.category)\n",
        "\n",
        "    return words_string"
      ],
      "id": "later-literature",
      "execution_count": 19,
      "outputs": []
    },
    {
      "cell_type": "code",
      "metadata": {
        "id": "previous-yahoo"
      },
      "source": [
        "#Applying the function to the catgeory column\n",
        "df_new['categories'] = df_new.apply(join_words, axis=1)"
      ],
      "id": "previous-yahoo",
      "execution_count": 20,
      "outputs": []
    },
    {
      "cell_type": "code",
      "metadata": {
        "id": "going-praise",
        "outputId": "7ab89330-714b-4002-cc68-f984d4ca8df2",
        "colab": {
          "base_uri": "https://localhost:8080/",
          "height": 35
        }
      },
      "source": [
        "#Checking the values after appplying the function\n",
        "df_new['categories'][2]"
      ],
      "id": "going-praise",
      "execution_count": 21,
      "outputs": [
        {
          "output_type": "execute_result",
          "data": {
            "application/vnd.google.colaboratory.intrinsic+json": {
              "type": "string"
            },
            "text/plain": [
              "'Implants_(medicine),Neuroprosthetics'"
            ]
          },
          "metadata": {},
          "execution_count": 21
        }
      ]
    },
    {
      "cell_type": "code",
      "metadata": {
        "id": "encouraging-moment",
        "outputId": "d6b37240-433b-415a-c03b-dacc7fda81e3",
        "colab": {
          "base_uri": "https://localhost:8080/",
          "height": 479
        }
      },
      "source": [
        "#Checking the column values for further cleaning of the data.\n",
        "df_new.head()"
      ],
      "id": "encouraging-moment",
      "execution_count": 22,
      "outputs": [
        {
          "output_type": "execute_result",
          "data": {
            "text/html": [
              "<div>\n",
              "<style scoped>\n",
              "    .dataframe tbody tr th:only-of-type {\n",
              "        vertical-align: middle;\n",
              "    }\n",
              "\n",
              "    .dataframe tbody tr th {\n",
              "        vertical-align: top;\n",
              "    }\n",
              "\n",
              "    .dataframe thead th {\n",
              "        text-align: right;\n",
              "    }\n",
              "</style>\n",
              "<table border=\"1\" class=\"dataframe\">\n",
              "  <thead>\n",
              "    <tr style=\"text-align: right;\">\n",
              "      <th></th>\n",
              "      <th>instance.value</th>\n",
              "      <th>label.value</th>\n",
              "      <th>comment.value</th>\n",
              "      <th>abstract.value</th>\n",
              "      <th>wikicategories.value</th>\n",
              "      <th>DBpediaOntology.value</th>\n",
              "      <th>category</th>\n",
              "      <th>categories</th>\n",
              "    </tr>\n",
              "  </thead>\n",
              "  <tbody>\n",
              "    <tr>\n",
              "      <th>0</th>\n",
              "      <td>http://dbpedia.org/resource/Implantable_loop_r...</td>\n",
              "      <td>Implantable loop recorder</td>\n",
              "      <td>An implantable loop recorder (ILR), also known...</td>\n",
              "      <td>An implantable loop recorder (ILR), also known...</td>\n",
              "      <td>http://dbpedia.org/resource/Category:Implants_...</td>\n",
              "      <td>http://dbpedia.org/class/yago/Abstraction10000...</td>\n",
              "      <td>[Implants_(medicine)]</td>\n",
              "      <td>Implants_(medicine)</td>\n",
              "    </tr>\n",
              "    <tr>\n",
              "      <th>1</th>\n",
              "      <td>http://dbpedia.org/resource/Health_Canada</td>\n",
              "      <td>Health Canada</td>\n",
              "      <td>Health Canada (HC; French: Santé Canada, SC) i...</td>\n",
              "      <td>Health Canada (HC; French: Santé Canada, SC) i...</td>\n",
              "      <td>http://dbpedia.org/resource/Category:Regulatio...</td>\n",
              "      <td>http://dbpedia.org/class/yago/Abstraction10000...</td>\n",
              "      <td>[Regulation_of_medical_devices]</td>\n",
              "      <td>Regulation_of_medical_devices</td>\n",
              "    </tr>\n",
              "    <tr>\n",
              "      <th>2</th>\n",
              "      <td>http://dbpedia.org/resource/Visual_prosthesis</td>\n",
              "      <td>Visual prosthesis</td>\n",
              "      <td>A visual prosthesis, often referred to as a bi...</td>\n",
              "      <td>A visual prosthesis, often referred to as a bi...</td>\n",
              "      <td>http://dbpedia.org/resource/Category:Implants_...</td>\n",
              "      <td>http://dbpedia.org/class/yago/Artifact10002193...</td>\n",
              "      <td>[Implants_(medicine), Neuroprosthetics]</td>\n",
              "      <td>Implants_(medicine),Neuroprosthetics</td>\n",
              "    </tr>\n",
              "    <tr>\n",
              "      <th>3</th>\n",
              "      <td>http://dbpedia.org/resource/Medical_Devices_Di...</td>\n",
              "      <td>Medical Devices Directive</td>\n",
              "      <td>The Medical Device Directive (Council Directiv...</td>\n",
              "      <td>The Medical Device Directive (Council Directiv...</td>\n",
              "      <td>http://dbpedia.org/resource/Category:Regulatio...</td>\n",
              "      <td>http://dbpedia.org/class/yago/Abstraction10000...</td>\n",
              "      <td>[Regulation_of_medical_devices]</td>\n",
              "      <td>Regulation_of_medical_devices</td>\n",
              "    </tr>\n",
              "    <tr>\n",
              "      <th>4</th>\n",
              "      <td>http://dbpedia.org/resource/Nasal_spray</td>\n",
              "      <td>Nasal spray</td>\n",
              "      <td>Nasal sprays are used to deliver medications l...</td>\n",
              "      <td>Nasal sprays are used to deliver medications l...</td>\n",
              "      <td>http://dbpedia.org/resource/Category:Drug_deli...</td>\n",
              "      <td>http://dbpedia.org/class/yago/Abstraction10000...</td>\n",
              "      <td>[Drug_delivery_devices, Nasal_sprays]</td>\n",
              "      <td>Drug_delivery_devices,Nasal_sprays</td>\n",
              "    </tr>\n",
              "  </tbody>\n",
              "</table>\n",
              "</div>"
            ],
            "text/plain": [
              "                                      instance.value  ...                            categories\n",
              "0  http://dbpedia.org/resource/Implantable_loop_r...  ...                   Implants_(medicine)\n",
              "1          http://dbpedia.org/resource/Health_Canada  ...         Regulation_of_medical_devices\n",
              "2      http://dbpedia.org/resource/Visual_prosthesis  ...  Implants_(medicine),Neuroprosthetics\n",
              "3  http://dbpedia.org/resource/Medical_Devices_Di...  ...         Regulation_of_medical_devices\n",
              "4            http://dbpedia.org/resource/Nasal_spray  ...    Drug_delivery_devices,Nasal_sprays\n",
              "\n",
              "[5 rows x 8 columns]"
            ]
          },
          "metadata": {},
          "execution_count": 22
        }
      ]
    },
    {
      "cell_type": "code",
      "metadata": {
        "id": "dirty-framework",
        "outputId": "f4f834fb-554a-4cfc-fa6d-d614a0f24e90",
        "colab": {
          "base_uri": "https://localhost:8080/"
        }
      },
      "source": [
        "# checking the counts of the categories column values\n",
        "df_new['categories'].value_counts()"
      ],
      "id": "dirty-framework",
      "execution_count": 23,
      "outputs": [
        {
          "output_type": "execute_result",
          "data": {
            "text/plain": [
              "Implants_(medicine)                                                75\n",
              "Drug_delivery_devices                                              66\n",
              "Biomaterials                                                       48\n",
              "Medical_device_manufacturers                                       29\n",
              "Mobility_devices                                                   26\n",
              "Cyborgs_in_fiction                                                 25\n",
              "Brain–computer_interfacing                                         25\n",
              "Regulation_of_medical_devices                                      22\n",
              "Cyborgs                                                            13\n",
              "Implants_(medicine),Neuroprosthetics                               11\n",
              "Wheelchairs                                                        11\n",
              "Prosthetic_manufacturers                                           10\n",
              "Transdermal_patches                                                 7\n",
              "Biomaterials,Implants_(medicine)                                    6\n",
              "Medical_transport_devices                                           6\n",
              "Brain–computer_interfacing,Implants_(medicine),Neuroprosthetics     4\n",
              "Implants_(medicine),Orthopedic_implants                             4\n",
              "Medical_masks                                                       4\n",
              "Neuroprosthetics                                                    4\n",
              "Tinctures                                                           4\n",
              "Orthopedic_implants                                                 4\n",
              "Boston_Scientific_people                                            3\n",
              "Brain–computer_interfacing,Neuroprosthetics                         2\n",
              "Boston_Scientific,Implants_(medicine)                               2\n",
              "Face_masks_during_the_COVID-19_pandemic,Medical_masks               2\n",
              "Mobility_devices,Wheelchairs                                        2\n",
              "Nasal_sprays                                                        2\n",
              "Cyborgs,Implants_(medicine)                                         2\n",
              "Orthopedic_screws                                                   2\n",
              "Drug_delivery_devices,Implants_(medicine)                           1\n",
              "Drug_delivery_devices,Nasal_sprays                                  1\n",
              "Drug_delivery_devices,Transdermal_patches                           1\n",
              "Implants_(medicine),Prosthetic_manufacturers                        1\n",
              "Implants_(medicine),Regulation_of_medical_devices                   1\n",
              "Biomaterials,Drug_delivery_devices                                  1\n",
              "Name: categories, dtype: int64"
            ]
          },
          "metadata": {},
          "execution_count": 23
        }
      ]
    },
    {
      "cell_type": "code",
      "metadata": {
        "id": "postal-austria"
      },
      "source": [
        "#Removing of '_' in the data-frame.\n",
        "df_new =df_new.replace('_', ' ', regex=True)"
      ],
      "id": "postal-austria",
      "execution_count": 24,
      "outputs": []
    },
    {
      "cell_type": "code",
      "metadata": {
        "id": "approximate-repository"
      },
      "source": [
        "#Dropping the unwanted columns again.\n",
        "df_new.rename(columns = {'label.value':'Name','abstract.value':'Description','categories':'Category'}, inplace = True)\n",
        "medical_devices_data = df_new.drop(['DBpediaOntology.value','wikicategories.value','comment.value','instance.value','category'],axis=1)"
      ],
      "id": "approximate-repository",
      "execution_count": 25,
      "outputs": []
    },
    {
      "cell_type": "code",
      "metadata": {
        "id": "agreed-portable",
        "outputId": "9b3200af-2ab4-4155-f984-6a8ad0a69909",
        "colab": {
          "base_uri": "https://localhost:8080/",
          "height": 204
        }
      },
      "source": [
        "#Checking the contents for the new data-frame.\n",
        "medical_devices_data.head()\n"
      ],
      "id": "agreed-portable",
      "execution_count": 26,
      "outputs": [
        {
          "output_type": "execute_result",
          "data": {
            "text/html": [
              "<div>\n",
              "<style scoped>\n",
              "    .dataframe tbody tr th:only-of-type {\n",
              "        vertical-align: middle;\n",
              "    }\n",
              "\n",
              "    .dataframe tbody tr th {\n",
              "        vertical-align: top;\n",
              "    }\n",
              "\n",
              "    .dataframe thead th {\n",
              "        text-align: right;\n",
              "    }\n",
              "</style>\n",
              "<table border=\"1\" class=\"dataframe\">\n",
              "  <thead>\n",
              "    <tr style=\"text-align: right;\">\n",
              "      <th></th>\n",
              "      <th>Name</th>\n",
              "      <th>Description</th>\n",
              "      <th>Category</th>\n",
              "    </tr>\n",
              "  </thead>\n",
              "  <tbody>\n",
              "    <tr>\n",
              "      <th>0</th>\n",
              "      <td>Implantable loop recorder</td>\n",
              "      <td>An implantable loop recorder (ILR), also known...</td>\n",
              "      <td>Implants (medicine)</td>\n",
              "    </tr>\n",
              "    <tr>\n",
              "      <th>1</th>\n",
              "      <td>Health Canada</td>\n",
              "      <td>Health Canada (HC; French: Santé Canada, SC) i...</td>\n",
              "      <td>Regulation of medical devices</td>\n",
              "    </tr>\n",
              "    <tr>\n",
              "      <th>2</th>\n",
              "      <td>Visual prosthesis</td>\n",
              "      <td>A visual prosthesis, often referred to as a bi...</td>\n",
              "      <td>Implants (medicine),Neuroprosthetics</td>\n",
              "    </tr>\n",
              "    <tr>\n",
              "      <th>3</th>\n",
              "      <td>Medical Devices Directive</td>\n",
              "      <td>The Medical Device Directive (Council Directiv...</td>\n",
              "      <td>Regulation of medical devices</td>\n",
              "    </tr>\n",
              "    <tr>\n",
              "      <th>4</th>\n",
              "      <td>Nasal spray</td>\n",
              "      <td>Nasal sprays are used to deliver medications l...</td>\n",
              "      <td>Drug delivery devices,Nasal sprays</td>\n",
              "    </tr>\n",
              "  </tbody>\n",
              "</table>\n",
              "</div>"
            ],
            "text/plain": [
              "                        Name  ...                              Category\n",
              "0  Implantable loop recorder  ...                   Implants (medicine)\n",
              "1              Health Canada  ...         Regulation of medical devices\n",
              "2          Visual prosthesis  ...  Implants (medicine),Neuroprosthetics\n",
              "3  Medical Devices Directive  ...         Regulation of medical devices\n",
              "4                Nasal spray  ...    Drug delivery devices,Nasal sprays\n",
              "\n",
              "[5 rows x 3 columns]"
            ]
          },
          "metadata": {},
          "execution_count": 26
        }
      ]
    },
    {
      "cell_type": "code",
      "metadata": {
        "id": "above-fairy"
      },
      "source": [
        "#Saving the dataframe into .csv file.\n",
        "medical_devices_data.to_csv('med_devs_clean_data.csv', index = False)\n",
        "\n",
        "# medical_devices_data.to_csv('med_equips_clean_data.csv', index = False)\n",
        "\n",
        "# When performing steps for seconfd dataset, above line is uncommented and first line is commented. For second dataset, file is saved as 'med_equips_clean_data.csv"
      ],
      "id": "above-fairy",
      "execution_count": 27,
      "outputs": []
    },
    {
      "cell_type": "markdown",
      "metadata": {
        "id": "CP151nh-6JJI"
      },
      "source": [
        "Same operations are performed for the second  dataset from first step."
      ],
      "id": "CP151nh-6JJI"
    }
  ]
}