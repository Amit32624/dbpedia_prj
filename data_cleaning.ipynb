{
  "nbformat": 4,
  "nbformat_minor": 5,
  "metadata": {
    "kernelspec": {
      "display_name": "Python 3",
      "language": "python",
      "name": "python3"
    },
    "language_info": {
      "codemirror_mode": {
        "name": "ipython",
        "version": 3
      },
      "file_extension": ".py",
      "mimetype": "text/x-python",
      "name": "python",
      "nbconvert_exporter": "python",
      "pygments_lexer": "ipython3",
      "version": "3.8.5"
    },
    "colab": {
      "name": "data_cleaning.ipynb",
      "provenance": [],
      "include_colab_link": true
    }
  },
  "cells": [
    {
      "cell_type": "markdown",
      "metadata": {
        "id": "view-in-github",
        "colab_type": "text"
      },
      "source": [
        "<a href=\"https://colab.research.google.com/github/Amit32624/dbpedia_prj/blob/master/data_cleaning.ipynb\" target=\"_parent\"><img src=\"https://colab.research.google.com/assets/colab-badge.svg\" alt=\"Open In Colab\"/></a>"
      ]
    },
    {
      "cell_type": "code",
      "metadata": {
        "id": "placed-wednesday"
      },
      "source": [
        "#Reading the csv file of the extracted data\n",
        "import pandas as pd\n",
        "from pandas import DataFrame, Series\n",
        "\n",
        "df = pd.read_csv('medical_devices_data.csv')"
      ],
      "id": "placed-wednesday",
      "execution_count": null,
      "outputs": []
    },
    {
      "cell_type": "code",
      "metadata": {
        "id": "collect-cathedral",
        "outputId": "3712fcaf-ad34-4967-beff-9b6a205a562c"
      },
      "source": [
        "#Checking the first five rows of the dataframe.\n",
        "df.head()"
      ],
      "id": "collect-cathedral",
      "execution_count": null,
      "outputs": [
        {
          "data": {
            "text/html": [
              "<div>\n",
              "<style scoped>\n",
              "    .dataframe tbody tr th:only-of-type {\n",
              "        vertical-align: middle;\n",
              "    }\n",
              "\n",
              "    .dataframe tbody tr th {\n",
              "        vertical-align: top;\n",
              "    }\n",
              "\n",
              "    .dataframe thead th {\n",
              "        text-align: right;\n",
              "    }\n",
              "</style>\n",
              "<table border=\"1\" class=\"dataframe\">\n",
              "  <thead>\n",
              "    <tr style=\"text-align: right;\">\n",
              "      <th></th>\n",
              "      <th>instance.type</th>\n",
              "      <th>instance.value</th>\n",
              "      <th>label.type</th>\n",
              "      <th>label.xml:lang</th>\n",
              "      <th>label.value</th>\n",
              "      <th>comment.type</th>\n",
              "      <th>comment.xml:lang</th>\n",
              "      <th>comment.value</th>\n",
              "      <th>abstract.type</th>\n",
              "      <th>abstract.xml:lang</th>\n",
              "      <th>abstract.value</th>\n",
              "      <th>wikicategories.type</th>\n",
              "      <th>wikicategories.value</th>\n",
              "      <th>DBpediaOntology.type</th>\n",
              "      <th>DBpediaOntology.value</th>\n",
              "    </tr>\n",
              "  </thead>\n",
              "  <tbody>\n",
              "    <tr>\n",
              "      <th>0</th>\n",
              "      <td>uri</td>\n",
              "      <td>http://dbpedia.org/resource/Implantable_loop_r...</td>\n",
              "      <td>literal</td>\n",
              "      <td>en</td>\n",
              "      <td>Implantable loop recorder</td>\n",
              "      <td>literal</td>\n",
              "      <td>en</td>\n",
              "      <td>An implantable loop recorder (ILR), also known...</td>\n",
              "      <td>literal</td>\n",
              "      <td>en</td>\n",
              "      <td>An implantable loop recorder (ILR), also known...</td>\n",
              "      <td>literal</td>\n",
              "      <td>http://dbpedia.org/resource/Category:Implants_...</td>\n",
              "      <td>literal</td>\n",
              "      <td>http://dbpedia.org/class/yago/Abstraction10000...</td>\n",
              "    </tr>\n",
              "    <tr>\n",
              "      <th>1</th>\n",
              "      <td>uri</td>\n",
              "      <td>http://dbpedia.org/resource/Health_Canada</td>\n",
              "      <td>literal</td>\n",
              "      <td>en</td>\n",
              "      <td>Health Canada</td>\n",
              "      <td>literal</td>\n",
              "      <td>en</td>\n",
              "      <td>Health Canada (HC; French: Santé Canada, SC) i...</td>\n",
              "      <td>literal</td>\n",
              "      <td>en</td>\n",
              "      <td>Health Canada (HC; French: Santé Canada, SC) i...</td>\n",
              "      <td>literal</td>\n",
              "      <td>http://dbpedia.org/resource/Category:Regulatio...</td>\n",
              "      <td>literal</td>\n",
              "      <td>http://dbpedia.org/class/yago/Abstraction10000...</td>\n",
              "    </tr>\n",
              "    <tr>\n",
              "      <th>2</th>\n",
              "      <td>uri</td>\n",
              "      <td>http://dbpedia.org/resource/Visual_prosthesis</td>\n",
              "      <td>literal</td>\n",
              "      <td>en</td>\n",
              "      <td>Visual prosthesis</td>\n",
              "      <td>literal</td>\n",
              "      <td>en</td>\n",
              "      <td>A visual prosthesis, often referred to as a bi...</td>\n",
              "      <td>literal</td>\n",
              "      <td>en</td>\n",
              "      <td>A visual prosthesis, often referred to as a bi...</td>\n",
              "      <td>literal</td>\n",
              "      <td>http://dbpedia.org/resource/Category:Implants_...</td>\n",
              "      <td>literal</td>\n",
              "      <td>http://dbpedia.org/class/yago/Artifact10002193...</td>\n",
              "    </tr>\n",
              "    <tr>\n",
              "      <th>3</th>\n",
              "      <td>uri</td>\n",
              "      <td>http://dbpedia.org/resource/Medical_Devices_Di...</td>\n",
              "      <td>literal</td>\n",
              "      <td>en</td>\n",
              "      <td>Medical Devices Directive</td>\n",
              "      <td>literal</td>\n",
              "      <td>en</td>\n",
              "      <td>The Medical Device Directive (Council Directiv...</td>\n",
              "      <td>literal</td>\n",
              "      <td>en</td>\n",
              "      <td>The Medical Device Directive (Council Directiv...</td>\n",
              "      <td>literal</td>\n",
              "      <td>http://dbpedia.org/resource/Category:Regulatio...</td>\n",
              "      <td>literal</td>\n",
              "      <td>http://dbpedia.org/class/yago/Abstraction10000...</td>\n",
              "    </tr>\n",
              "    <tr>\n",
              "      <th>4</th>\n",
              "      <td>uri</td>\n",
              "      <td>http://dbpedia.org/resource/Nasal_spray</td>\n",
              "      <td>literal</td>\n",
              "      <td>en</td>\n",
              "      <td>Nasal spray</td>\n",
              "      <td>literal</td>\n",
              "      <td>en</td>\n",
              "      <td>Nasal sprays are used to deliver medications l...</td>\n",
              "      <td>literal</td>\n",
              "      <td>en</td>\n",
              "      <td>Nasal sprays are used to deliver medications l...</td>\n",
              "      <td>literal</td>\n",
              "      <td>http://dbpedia.org/resource/Category:Drug_deli...</td>\n",
              "      <td>literal</td>\n",
              "      <td>http://dbpedia.org/class/yago/Abstraction10000...</td>\n",
              "    </tr>\n",
              "  </tbody>\n",
              "</table>\n",
              "</div>"
            ],
            "text/plain": [
              "  instance.type                                     instance.value label.type  \\\n",
              "0           uri  http://dbpedia.org/resource/Implantable_loop_r...    literal   \n",
              "1           uri          http://dbpedia.org/resource/Health_Canada    literal   \n",
              "2           uri      http://dbpedia.org/resource/Visual_prosthesis    literal   \n",
              "3           uri  http://dbpedia.org/resource/Medical_Devices_Di...    literal   \n",
              "4           uri            http://dbpedia.org/resource/Nasal_spray    literal   \n",
              "\n",
              "  label.xml:lang                label.value comment.type comment.xml:lang  \\\n",
              "0             en  Implantable loop recorder      literal               en   \n",
              "1             en              Health Canada      literal               en   \n",
              "2             en          Visual prosthesis      literal               en   \n",
              "3             en  Medical Devices Directive      literal               en   \n",
              "4             en                Nasal spray      literal               en   \n",
              "\n",
              "                                       comment.value abstract.type  \\\n",
              "0  An implantable loop recorder (ILR), also known...       literal   \n",
              "1  Health Canada (HC; French: Santé Canada, SC) i...       literal   \n",
              "2  A visual prosthesis, often referred to as a bi...       literal   \n",
              "3  The Medical Device Directive (Council Directiv...       literal   \n",
              "4  Nasal sprays are used to deliver medications l...       literal   \n",
              "\n",
              "  abstract.xml:lang                                     abstract.value  \\\n",
              "0                en  An implantable loop recorder (ILR), also known...   \n",
              "1                en  Health Canada (HC; French: Santé Canada, SC) i...   \n",
              "2                en  A visual prosthesis, often referred to as a bi...   \n",
              "3                en  The Medical Device Directive (Council Directiv...   \n",
              "4                en  Nasal sprays are used to deliver medications l...   \n",
              "\n",
              "  wikicategories.type                               wikicategories.value  \\\n",
              "0             literal  http://dbpedia.org/resource/Category:Implants_...   \n",
              "1             literal  http://dbpedia.org/resource/Category:Regulatio...   \n",
              "2             literal  http://dbpedia.org/resource/Category:Implants_...   \n",
              "3             literal  http://dbpedia.org/resource/Category:Regulatio...   \n",
              "4             literal  http://dbpedia.org/resource/Category:Drug_deli...   \n",
              "\n",
              "  DBpediaOntology.type                              DBpediaOntology.value  \n",
              "0              literal  http://dbpedia.org/class/yago/Abstraction10000...  \n",
              "1              literal  http://dbpedia.org/class/yago/Abstraction10000...  \n",
              "2              literal  http://dbpedia.org/class/yago/Artifact10002193...  \n",
              "3              literal  http://dbpedia.org/class/yago/Abstraction10000...  \n",
              "4              literal  http://dbpedia.org/class/yago/Abstraction10000...  "
            ]
          },
          "execution_count": 92,
          "metadata": {},
          "output_type": "execute_result"
        }
      ]
    },
    {
      "cell_type": "code",
      "metadata": {
        "id": "unusual-manor",
        "outputId": "b1f6a8ab-ec6d-4c8a-c237-d010615c7c8b"
      },
      "source": [
        "#Checking the name of the columns and the number of records in the data-frame.\n",
        "print(df.columns)\n",
        "print(df.shape)"
      ],
      "id": "unusual-manor",
      "execution_count": null,
      "outputs": [
        {
          "name": "stdout",
          "output_type": "stream",
          "text": [
            "Index(['instance.type', 'instance.value', 'label.type', 'label.xml:lang',\n",
            "       'label.value', 'comment.type', 'comment.xml:lang', 'comment.value',\n",
            "       'abstract.type', 'abstract.xml:lang', 'abstract.value',\n",
            "       'wikicategories.type', 'wikicategories.value', 'DBpediaOntology.type',\n",
            "       'DBpediaOntology.value'],\n",
            "      dtype='object')\n",
            "(427, 15)\n"
          ]
        }
      ]
    },
    {
      "cell_type": "code",
      "metadata": {
        "scrolled": true,
        "id": "approved-bhutan",
        "outputId": "6cf942f0-e6e5-4cf8-94f9-bdbeca9df3e5"
      },
      "source": [
        "#Dropping the values if any duplicates\n",
        "df.drop_duplicates()"
      ],
      "id": "approved-bhutan",
      "execution_count": null,
      "outputs": [
        {
          "data": {
            "text/html": [
              "<div>\n",
              "<style scoped>\n",
              "    .dataframe tbody tr th:only-of-type {\n",
              "        vertical-align: middle;\n",
              "    }\n",
              "\n",
              "    .dataframe tbody tr th {\n",
              "        vertical-align: top;\n",
              "    }\n",
              "\n",
              "    .dataframe thead th {\n",
              "        text-align: right;\n",
              "    }\n",
              "</style>\n",
              "<table border=\"1\" class=\"dataframe\">\n",
              "  <thead>\n",
              "    <tr style=\"text-align: right;\">\n",
              "      <th></th>\n",
              "      <th>instance.type</th>\n",
              "      <th>instance.value</th>\n",
              "      <th>label.type</th>\n",
              "      <th>label.xml:lang</th>\n",
              "      <th>label.value</th>\n",
              "      <th>comment.type</th>\n",
              "      <th>comment.xml:lang</th>\n",
              "      <th>comment.value</th>\n",
              "      <th>abstract.type</th>\n",
              "      <th>abstract.xml:lang</th>\n",
              "      <th>abstract.value</th>\n",
              "      <th>wikicategories.type</th>\n",
              "      <th>wikicategories.value</th>\n",
              "      <th>DBpediaOntology.type</th>\n",
              "      <th>DBpediaOntology.value</th>\n",
              "    </tr>\n",
              "  </thead>\n",
              "  <tbody>\n",
              "    <tr>\n",
              "      <th>0</th>\n",
              "      <td>uri</td>\n",
              "      <td>http://dbpedia.org/resource/Implantable_loop_r...</td>\n",
              "      <td>literal</td>\n",
              "      <td>en</td>\n",
              "      <td>Implantable loop recorder</td>\n",
              "      <td>literal</td>\n",
              "      <td>en</td>\n",
              "      <td>An implantable loop recorder (ILR), also known...</td>\n",
              "      <td>literal</td>\n",
              "      <td>en</td>\n",
              "      <td>An implantable loop recorder (ILR), also known...</td>\n",
              "      <td>literal</td>\n",
              "      <td>http://dbpedia.org/resource/Category:Implants_...</td>\n",
              "      <td>literal</td>\n",
              "      <td>http://dbpedia.org/class/yago/Abstraction10000...</td>\n",
              "    </tr>\n",
              "    <tr>\n",
              "      <th>1</th>\n",
              "      <td>uri</td>\n",
              "      <td>http://dbpedia.org/resource/Health_Canada</td>\n",
              "      <td>literal</td>\n",
              "      <td>en</td>\n",
              "      <td>Health Canada</td>\n",
              "      <td>literal</td>\n",
              "      <td>en</td>\n",
              "      <td>Health Canada (HC; French: Santé Canada, SC) i...</td>\n",
              "      <td>literal</td>\n",
              "      <td>en</td>\n",
              "      <td>Health Canada (HC; French: Santé Canada, SC) i...</td>\n",
              "      <td>literal</td>\n",
              "      <td>http://dbpedia.org/resource/Category:Regulatio...</td>\n",
              "      <td>literal</td>\n",
              "      <td>http://dbpedia.org/class/yago/Abstraction10000...</td>\n",
              "    </tr>\n",
              "    <tr>\n",
              "      <th>2</th>\n",
              "      <td>uri</td>\n",
              "      <td>http://dbpedia.org/resource/Visual_prosthesis</td>\n",
              "      <td>literal</td>\n",
              "      <td>en</td>\n",
              "      <td>Visual prosthesis</td>\n",
              "      <td>literal</td>\n",
              "      <td>en</td>\n",
              "      <td>A visual prosthesis, often referred to as a bi...</td>\n",
              "      <td>literal</td>\n",
              "      <td>en</td>\n",
              "      <td>A visual prosthesis, often referred to as a bi...</td>\n",
              "      <td>literal</td>\n",
              "      <td>http://dbpedia.org/resource/Category:Implants_...</td>\n",
              "      <td>literal</td>\n",
              "      <td>http://dbpedia.org/class/yago/Artifact10002193...</td>\n",
              "    </tr>\n",
              "    <tr>\n",
              "      <th>3</th>\n",
              "      <td>uri</td>\n",
              "      <td>http://dbpedia.org/resource/Medical_Devices_Di...</td>\n",
              "      <td>literal</td>\n",
              "      <td>en</td>\n",
              "      <td>Medical Devices Directive</td>\n",
              "      <td>literal</td>\n",
              "      <td>en</td>\n",
              "      <td>The Medical Device Directive (Council Directiv...</td>\n",
              "      <td>literal</td>\n",
              "      <td>en</td>\n",
              "      <td>The Medical Device Directive (Council Directiv...</td>\n",
              "      <td>literal</td>\n",
              "      <td>http://dbpedia.org/resource/Category:Regulatio...</td>\n",
              "      <td>literal</td>\n",
              "      <td>http://dbpedia.org/class/yago/Abstraction10000...</td>\n",
              "    </tr>\n",
              "    <tr>\n",
              "      <th>4</th>\n",
              "      <td>uri</td>\n",
              "      <td>http://dbpedia.org/resource/Nasal_spray</td>\n",
              "      <td>literal</td>\n",
              "      <td>en</td>\n",
              "      <td>Nasal spray</td>\n",
              "      <td>literal</td>\n",
              "      <td>en</td>\n",
              "      <td>Nasal sprays are used to deliver medications l...</td>\n",
              "      <td>literal</td>\n",
              "      <td>en</td>\n",
              "      <td>Nasal sprays are used to deliver medications l...</td>\n",
              "      <td>literal</td>\n",
              "      <td>http://dbpedia.org/resource/Category:Drug_deli...</td>\n",
              "      <td>literal</td>\n",
              "      <td>http://dbpedia.org/class/yago/Abstraction10000...</td>\n",
              "    </tr>\n",
              "    <tr>\n",
              "      <th>...</th>\n",
              "      <td>...</td>\n",
              "      <td>...</td>\n",
              "      <td>...</td>\n",
              "      <td>...</td>\n",
              "      <td>...</td>\n",
              "      <td>...</td>\n",
              "      <td>...</td>\n",
              "      <td>...</td>\n",
              "      <td>...</td>\n",
              "      <td>...</td>\n",
              "      <td>...</td>\n",
              "      <td>...</td>\n",
              "      <td>...</td>\n",
              "      <td>...</td>\n",
              "      <td>...</td>\n",
              "    </tr>\n",
              "    <tr>\n",
              "      <th>422</th>\n",
              "      <td>uri</td>\n",
              "      <td>http://dbpedia.org/resource/Biomaterial</td>\n",
              "      <td>literal</td>\n",
              "      <td>en</td>\n",
              "      <td>Biomaterial</td>\n",
              "      <td>literal</td>\n",
              "      <td>en</td>\n",
              "      <td>A biomaterial is a substance that has been eng...</td>\n",
              "      <td>literal</td>\n",
              "      <td>en</td>\n",
              "      <td>A biomaterial is a substance that has been eng...</td>\n",
              "      <td>literal</td>\n",
              "      <td>http://dbpedia.org/resource/Category:Biomaterials</td>\n",
              "      <td>literal</td>\n",
              "      <td>http://dbpedia.org/class/yago/Abstraction10000...</td>\n",
              "    </tr>\n",
              "    <tr>\n",
              "      <th>423</th>\n",
              "      <td>uri</td>\n",
              "      <td>http://dbpedia.org/resource/The_Culture</td>\n",
              "      <td>literal</td>\n",
              "      <td>en</td>\n",
              "      <td>The Culture</td>\n",
              "      <td>literal</td>\n",
              "      <td>en</td>\n",
              "      <td>The Culture is a fictional interstellar post-s...</td>\n",
              "      <td>literal</td>\n",
              "      <td>en</td>\n",
              "      <td>The Culture is a fictional interstellar post-s...</td>\n",
              "      <td>literal</td>\n",
              "      <td>http://dbpedia.org/resource/Category:Cyborgs_i...</td>\n",
              "      <td>literal</td>\n",
              "      <td>http://dbpedia.org/class/yago/Abstraction10000...</td>\n",
              "    </tr>\n",
              "    <tr>\n",
              "      <th>424</th>\n",
              "      <td>uri</td>\n",
              "      <td>http://dbpedia.org/resource/Emotiv_Systems</td>\n",
              "      <td>literal</td>\n",
              "      <td>en</td>\n",
              "      <td>Emotiv Systems</td>\n",
              "      <td>literal</td>\n",
              "      <td>en</td>\n",
              "      <td>Emotiv Systems is an Australian electronics in...</td>\n",
              "      <td>literal</td>\n",
              "      <td>en</td>\n",
              "      <td>Emotiv Systems is an Australian electronics in...</td>\n",
              "      <td>literal</td>\n",
              "      <td>http://dbpedia.org/resource/Category:Brain–com...</td>\n",
              "      <td>literal</td>\n",
              "      <td>http://dbpedia.org/class/yago/Abstraction10000...</td>\n",
              "    </tr>\n",
              "    <tr>\n",
              "      <th>425</th>\n",
              "      <td>uri</td>\n",
              "      <td>http://dbpedia.org/resource/Supreme_Commander_...</td>\n",
              "      <td>literal</td>\n",
              "      <td>en</td>\n",
              "      <td>Supreme Commander (video game)</td>\n",
              "      <td>literal</td>\n",
              "      <td>en</td>\n",
              "      <td>Supreme Commander is a real-time strategy vide...</td>\n",
              "      <td>literal</td>\n",
              "      <td>en</td>\n",
              "      <td>Supreme Commander is a real-time strategy vide...</td>\n",
              "      <td>literal</td>\n",
              "      <td>http://dbpedia.org/resource/Category:Cyborgs_i...</td>\n",
              "      <td>literal</td>\n",
              "      <td>http://dbpedia.org/class/yago/Abstraction10000...</td>\n",
              "    </tr>\n",
              "    <tr>\n",
              "      <th>426</th>\n",
              "      <td>uri</td>\n",
              "      <td>http://dbpedia.org/resource/Össur</td>\n",
              "      <td>literal</td>\n",
              "      <td>en</td>\n",
              "      <td>Össur</td>\n",
              "      <td>literal</td>\n",
              "      <td>en</td>\n",
              "      <td>Össur hf. is an Icelandic company that develop...</td>\n",
              "      <td>literal</td>\n",
              "      <td>en</td>\n",
              "      <td>Össur hf. is an Icelandic company that develop...</td>\n",
              "      <td>literal</td>\n",
              "      <td>http://dbpedia.org/resource/Category:Prostheti...</td>\n",
              "      <td>literal</td>\n",
              "      <td>http://dbpedia.org/class/yago/Abstraction10000...</td>\n",
              "    </tr>\n",
              "  </tbody>\n",
              "</table>\n",
              "<p>427 rows × 15 columns</p>\n",
              "</div>"
            ],
            "text/plain": [
              "    instance.type                                     instance.value  \\\n",
              "0             uri  http://dbpedia.org/resource/Implantable_loop_r...   \n",
              "1             uri          http://dbpedia.org/resource/Health_Canada   \n",
              "2             uri      http://dbpedia.org/resource/Visual_prosthesis   \n",
              "3             uri  http://dbpedia.org/resource/Medical_Devices_Di...   \n",
              "4             uri            http://dbpedia.org/resource/Nasal_spray   \n",
              "..            ...                                                ...   \n",
              "422           uri            http://dbpedia.org/resource/Biomaterial   \n",
              "423           uri            http://dbpedia.org/resource/The_Culture   \n",
              "424           uri         http://dbpedia.org/resource/Emotiv_Systems   \n",
              "425           uri  http://dbpedia.org/resource/Supreme_Commander_...   \n",
              "426           uri                  http://dbpedia.org/resource/Össur   \n",
              "\n",
              "    label.type label.xml:lang                     label.value comment.type  \\\n",
              "0      literal             en       Implantable loop recorder      literal   \n",
              "1      literal             en                   Health Canada      literal   \n",
              "2      literal             en               Visual prosthesis      literal   \n",
              "3      literal             en       Medical Devices Directive      literal   \n",
              "4      literal             en                     Nasal spray      literal   \n",
              "..         ...            ...                             ...          ...   \n",
              "422    literal             en                     Biomaterial      literal   \n",
              "423    literal             en                     The Culture      literal   \n",
              "424    literal             en                  Emotiv Systems      literal   \n",
              "425    literal             en  Supreme Commander (video game)      literal   \n",
              "426    literal             en                           Össur      literal   \n",
              "\n",
              "    comment.xml:lang                                      comment.value  \\\n",
              "0                 en  An implantable loop recorder (ILR), also known...   \n",
              "1                 en  Health Canada (HC; French: Santé Canada, SC) i...   \n",
              "2                 en  A visual prosthesis, often referred to as a bi...   \n",
              "3                 en  The Medical Device Directive (Council Directiv...   \n",
              "4                 en  Nasal sprays are used to deliver medications l...   \n",
              "..               ...                                                ...   \n",
              "422               en  A biomaterial is a substance that has been eng...   \n",
              "423               en  The Culture is a fictional interstellar post-s...   \n",
              "424               en  Emotiv Systems is an Australian electronics in...   \n",
              "425               en  Supreme Commander is a real-time strategy vide...   \n",
              "426               en  Össur hf. is an Icelandic company that develop...   \n",
              "\n",
              "    abstract.type abstract.xml:lang  \\\n",
              "0         literal                en   \n",
              "1         literal                en   \n",
              "2         literal                en   \n",
              "3         literal                en   \n",
              "4         literal                en   \n",
              "..            ...               ...   \n",
              "422       literal                en   \n",
              "423       literal                en   \n",
              "424       literal                en   \n",
              "425       literal                en   \n",
              "426       literal                en   \n",
              "\n",
              "                                        abstract.value wikicategories.type  \\\n",
              "0    An implantable loop recorder (ILR), also known...             literal   \n",
              "1    Health Canada (HC; French: Santé Canada, SC) i...             literal   \n",
              "2    A visual prosthesis, often referred to as a bi...             literal   \n",
              "3    The Medical Device Directive (Council Directiv...             literal   \n",
              "4    Nasal sprays are used to deliver medications l...             literal   \n",
              "..                                                 ...                 ...   \n",
              "422  A biomaterial is a substance that has been eng...             literal   \n",
              "423  The Culture is a fictional interstellar post-s...             literal   \n",
              "424  Emotiv Systems is an Australian electronics in...             literal   \n",
              "425  Supreme Commander is a real-time strategy vide...             literal   \n",
              "426  Össur hf. is an Icelandic company that develop...             literal   \n",
              "\n",
              "                                  wikicategories.value DBpediaOntology.type  \\\n",
              "0    http://dbpedia.org/resource/Category:Implants_...              literal   \n",
              "1    http://dbpedia.org/resource/Category:Regulatio...              literal   \n",
              "2    http://dbpedia.org/resource/Category:Implants_...              literal   \n",
              "3    http://dbpedia.org/resource/Category:Regulatio...              literal   \n",
              "4    http://dbpedia.org/resource/Category:Drug_deli...              literal   \n",
              "..                                                 ...                  ...   \n",
              "422  http://dbpedia.org/resource/Category:Biomaterials              literal   \n",
              "423  http://dbpedia.org/resource/Category:Cyborgs_i...              literal   \n",
              "424  http://dbpedia.org/resource/Category:Brain–com...              literal   \n",
              "425  http://dbpedia.org/resource/Category:Cyborgs_i...              literal   \n",
              "426  http://dbpedia.org/resource/Category:Prostheti...              literal   \n",
              "\n",
              "                                 DBpediaOntology.value  \n",
              "0    http://dbpedia.org/class/yago/Abstraction10000...  \n",
              "1    http://dbpedia.org/class/yago/Abstraction10000...  \n",
              "2    http://dbpedia.org/class/yago/Artifact10002193...  \n",
              "3    http://dbpedia.org/class/yago/Abstraction10000...  \n",
              "4    http://dbpedia.org/class/yago/Abstraction10000...  \n",
              "..                                                 ...  \n",
              "422  http://dbpedia.org/class/yago/Abstraction10000...  \n",
              "423  http://dbpedia.org/class/yago/Abstraction10000...  \n",
              "424  http://dbpedia.org/class/yago/Abstraction10000...  \n",
              "425  http://dbpedia.org/class/yago/Abstraction10000...  \n",
              "426  http://dbpedia.org/class/yago/Abstraction10000...  \n",
              "\n",
              "[427 rows x 15 columns]"
            ]
          },
          "execution_count": 94,
          "metadata": {},
          "output_type": "execute_result"
        }
      ]
    },
    {
      "cell_type": "code",
      "metadata": {
        "id": "numerical-brown",
        "outputId": "88bfdc11-f8d6-4e8e-ff0d-0d7fc9129fd0"
      },
      "source": [
        "#Randomly checking the value \n",
        "df['comment.value'][5]"
      ],
      "id": "numerical-brown",
      "execution_count": null,
      "outputs": [
        {
          "data": {
            "text/plain": [
              "'A sacral nerve stimulator is a small device implanted in the buttocks of people who have problems with bladder and/or bowel control. This device is implanted in the buttock and connected to the sacral nerve by a wire. The device stops urges to defecate and urinate by sending signals to the sacral nerve. The patient is able to control their bladder and/or bowel via an external device similar to a remote control.'"
            ]
          },
          "execution_count": 95,
          "metadata": {},
          "output_type": "execute_result"
        }
      ]
    },
    {
      "cell_type": "code",
      "metadata": {
        "id": "crucial-double",
        "outputId": "7a1edce7-9a6a-457e-90d5-95e8e79c5d26"
      },
      "source": [
        "#Checking if any same name of devices or equipments are inin the data-frame\n",
        "df['label.value'].value_counts()"
      ],
      "id": "crucial-double",
      "execution_count": null,
      "outputs": [
        {
          "data": {
            "text/plain": [
              "Crutch                   1\n",
              "Ti-6Al-7Nb               1\n",
              "Contraceptive implant    1\n",
              "Voice prosthesis         1\n",
              "Nipro                    1\n",
              "                        ..\n",
              "Periprosthetic           1\n",
              "Cloth face mask          1\n",
              "Solution                 1\n",
              "Mert Lawwill             1\n",
              "ISO 10993                1\n",
              "Name: label.value, Length: 427, dtype: int64"
            ]
          },
          "execution_count": 96,
          "metadata": {},
          "output_type": "execute_result"
        }
      ]
    },
    {
      "cell_type": "code",
      "metadata": {
        "id": "incomplete-general"
      },
      "source": [
        "#Dropping unwanted columns\n",
        "df_new =df.drop(['instance.type','label.type','label.xml:lang','comment.type','abstract.type','abstract.xml:lang','comment.xml:lang','wikicategories.type',\n",
        "         'DBpediaOntology.type'], axis=1)"
      ],
      "id": "incomplete-general",
      "execution_count": null,
      "outputs": []
    },
    {
      "cell_type": "code",
      "metadata": {
        "id": "handled-hindu",
        "outputId": "26ba1103-4e2f-41b7-a793-0d19376030d2"
      },
      "source": [
        "#Checking for the specic column value\n",
        "df_new['comment.value'][2]"
      ],
      "id": "handled-hindu",
      "execution_count": null,
      "outputs": [
        {
          "data": {
            "text/plain": [
              "'A visual prosthesis, often referred to as a bionic eye, is an experimental visual device intended to restore functional vision in those suffering from partial or total blindness. Many devices have been developed, usually modeled on the cochlear implant or bionic ear devices, a type of neural prosthesis in use since the mid-1980s. The idea of using electrical current (e.g., electrically stimulating the retina or the visual cortex) to provide sight dates back to the 18th century, discussed by Benjamin Franklin, Tiberius Cavallo, and Charles LeRoy.'"
            ]
          },
          "execution_count": 98,
          "metadata": {},
          "output_type": "execute_result"
        }
      ]
    },
    {
      "cell_type": "code",
      "metadata": {
        "id": "legal-prefix",
        "outputId": "a5677154-c78b-41fb-cc8f-2add2200c46b"
      },
      "source": [
        "#Checking for the specic column value\n",
        "df_new['abstract.value'][2]"
      ],
      "id": "legal-prefix",
      "execution_count": null,
      "outputs": [
        {
          "data": {
            "text/plain": [
              "'A visual prosthesis, often referred to as a bionic eye, is an experimental visual device intended to restore functional vision in those suffering from partial or total blindness. Many devices have been developed, usually modeled on the cochlear implant or bionic ear devices, a type of neural prosthesis in use since the mid-1980s. The idea of using electrical current (e.g., electrically stimulating the retina or the visual cortex) to provide sight dates back to the 18th century, discussed by Benjamin Franklin, Tiberius Cavallo, and Charles LeRoy.'"
            ]
          },
          "execution_count": 99,
          "metadata": {},
          "output_type": "execute_result"
        }
      ]
    },
    {
      "cell_type": "code",
      "metadata": {
        "id": "foster-crystal",
        "outputId": "48f8ac45-413d-40ce-913c-33e9ba5e2b0e"
      },
      "source": [
        "#Checking for the specic column value\n",
        "df_new['wikicategories.value'][4]"
      ],
      "id": "foster-crystal",
      "execution_count": null,
      "outputs": [
        {
          "data": {
            "text/plain": [
              "'http://dbpedia.org/resource/Category:Drug_delivery_devices | http://dbpedia.org/resource/Category:Nasal_sprays'"
            ]
          },
          "execution_count": 100,
          "metadata": {},
          "output_type": "execute_result"
        }
      ]
    },
    {
      "cell_type": "code",
      "metadata": {
        "id": "assured-camping"
      },
      "source": [
        "#Defining the function to extract 'medical device categories name' from the URL link\n",
        "#of the 'wikicategories.value' column values. \n",
        "import re\n",
        "def cat(category):\n",
        "    match = re.compile(r'Category:(\\S+)?')\n",
        "    return([m for m in match.findall(category)])"
      ],
      "id": "assured-camping",
      "execution_count": null,
      "outputs": []
    },
    {
      "cell_type": "code",
      "metadata": {
        "id": "biblical-trader"
      },
      "source": [
        "#Inserting the new values into the new column name 'category' after appyyling the function\n",
        "df_new['category'] =df_new['wikicategories.value'].apply(cat)"
      ],
      "id": "biblical-trader",
      "execution_count": null,
      "outputs": []
    },
    {
      "cell_type": "code",
      "metadata": {
        "id": "american-cabinet",
        "outputId": "8d83f88a-ba4a-404b-d948-d2edc7e14449"
      },
      "source": [
        "df_new['category'][4]"
      ],
      "id": "american-cabinet",
      "execution_count": null,
      "outputs": [
        {
          "data": {
            "text/plain": [
              "['Drug_delivery_devices', 'Nasal_sprays']"
            ]
          },
          "execution_count": 114,
          "metadata": {},
          "output_type": "execute_result"
        }
      ]
    },
    {
      "cell_type": "code",
      "metadata": {
        "id": "central-perspective",
        "outputId": "f24d6c6f-df0d-482f-a7e8-42f03d92e16c"
      },
      "source": [
        "\n",
        "df_new.head()"
      ],
      "id": "central-perspective",
      "execution_count": null,
      "outputs": [
        {
          "data": {
            "text/html": [
              "<div>\n",
              "<style scoped>\n",
              "    .dataframe tbody tr th:only-of-type {\n",
              "        vertical-align: middle;\n",
              "    }\n",
              "\n",
              "    .dataframe tbody tr th {\n",
              "        vertical-align: top;\n",
              "    }\n",
              "\n",
              "    .dataframe thead th {\n",
              "        text-align: right;\n",
              "    }\n",
              "</style>\n",
              "<table border=\"1\" class=\"dataframe\">\n",
              "  <thead>\n",
              "    <tr style=\"text-align: right;\">\n",
              "      <th></th>\n",
              "      <th>instance.value</th>\n",
              "      <th>label.value</th>\n",
              "      <th>comment.value</th>\n",
              "      <th>abstract.value</th>\n",
              "      <th>wikicategories.value</th>\n",
              "      <th>DBpediaOntology.value</th>\n",
              "      <th>category</th>\n",
              "    </tr>\n",
              "  </thead>\n",
              "  <tbody>\n",
              "    <tr>\n",
              "      <th>0</th>\n",
              "      <td>http://dbpedia.org/resource/Implantable_loop_r...</td>\n",
              "      <td>Implantable loop recorder</td>\n",
              "      <td>An implantable loop recorder (ILR), also known...</td>\n",
              "      <td>An implantable loop recorder (ILR), also known...</td>\n",
              "      <td>http://dbpedia.org/resource/Category:Implants_...</td>\n",
              "      <td>http://dbpedia.org/class/yago/Abstraction10000...</td>\n",
              "      <td>[Implants_(medicine)]</td>\n",
              "    </tr>\n",
              "    <tr>\n",
              "      <th>1</th>\n",
              "      <td>http://dbpedia.org/resource/Health_Canada</td>\n",
              "      <td>Health Canada</td>\n",
              "      <td>Health Canada (HC; French: Santé Canada, SC) i...</td>\n",
              "      <td>Health Canada (HC; French: Santé Canada, SC) i...</td>\n",
              "      <td>http://dbpedia.org/resource/Category:Regulatio...</td>\n",
              "      <td>http://dbpedia.org/class/yago/Abstraction10000...</td>\n",
              "      <td>[Regulation_of_medical_devices]</td>\n",
              "    </tr>\n",
              "    <tr>\n",
              "      <th>2</th>\n",
              "      <td>http://dbpedia.org/resource/Visual_prosthesis</td>\n",
              "      <td>Visual prosthesis</td>\n",
              "      <td>A visual prosthesis, often referred to as a bi...</td>\n",
              "      <td>A visual prosthesis, often referred to as a bi...</td>\n",
              "      <td>http://dbpedia.org/resource/Category:Implants_...</td>\n",
              "      <td>http://dbpedia.org/class/yago/Artifact10002193...</td>\n",
              "      <td>[Implants_(medicine), Neuroprosthetics]</td>\n",
              "    </tr>\n",
              "    <tr>\n",
              "      <th>3</th>\n",
              "      <td>http://dbpedia.org/resource/Medical_Devices_Di...</td>\n",
              "      <td>Medical Devices Directive</td>\n",
              "      <td>The Medical Device Directive (Council Directiv...</td>\n",
              "      <td>The Medical Device Directive (Council Directiv...</td>\n",
              "      <td>http://dbpedia.org/resource/Category:Regulatio...</td>\n",
              "      <td>http://dbpedia.org/class/yago/Abstraction10000...</td>\n",
              "      <td>[Regulation_of_medical_devices]</td>\n",
              "    </tr>\n",
              "    <tr>\n",
              "      <th>4</th>\n",
              "      <td>http://dbpedia.org/resource/Nasal_spray</td>\n",
              "      <td>Nasal spray</td>\n",
              "      <td>Nasal sprays are used to deliver medications l...</td>\n",
              "      <td>Nasal sprays are used to deliver medications l...</td>\n",
              "      <td>http://dbpedia.org/resource/Category:Drug_deli...</td>\n",
              "      <td>http://dbpedia.org/class/yago/Abstraction10000...</td>\n",
              "      <td>[Drug_delivery_devices, Nasal_sprays]</td>\n",
              "    </tr>\n",
              "  </tbody>\n",
              "</table>\n",
              "</div>"
            ],
            "text/plain": [
              "                                      instance.value  \\\n",
              "0  http://dbpedia.org/resource/Implantable_loop_r...   \n",
              "1          http://dbpedia.org/resource/Health_Canada   \n",
              "2      http://dbpedia.org/resource/Visual_prosthesis   \n",
              "3  http://dbpedia.org/resource/Medical_Devices_Di...   \n",
              "4            http://dbpedia.org/resource/Nasal_spray   \n",
              "\n",
              "                 label.value  \\\n",
              "0  Implantable loop recorder   \n",
              "1              Health Canada   \n",
              "2          Visual prosthesis   \n",
              "3  Medical Devices Directive   \n",
              "4                Nasal spray   \n",
              "\n",
              "                                       comment.value  \\\n",
              "0  An implantable loop recorder (ILR), also known...   \n",
              "1  Health Canada (HC; French: Santé Canada, SC) i...   \n",
              "2  A visual prosthesis, often referred to as a bi...   \n",
              "3  The Medical Device Directive (Council Directiv...   \n",
              "4  Nasal sprays are used to deliver medications l...   \n",
              "\n",
              "                                      abstract.value  \\\n",
              "0  An implantable loop recorder (ILR), also known...   \n",
              "1  Health Canada (HC; French: Santé Canada, SC) i...   \n",
              "2  A visual prosthesis, often referred to as a bi...   \n",
              "3  The Medical Device Directive (Council Directiv...   \n",
              "4  Nasal sprays are used to deliver medications l...   \n",
              "\n",
              "                                wikicategories.value  \\\n",
              "0  http://dbpedia.org/resource/Category:Implants_...   \n",
              "1  http://dbpedia.org/resource/Category:Regulatio...   \n",
              "2  http://dbpedia.org/resource/Category:Implants_...   \n",
              "3  http://dbpedia.org/resource/Category:Regulatio...   \n",
              "4  http://dbpedia.org/resource/Category:Drug_deli...   \n",
              "\n",
              "                               DBpediaOntology.value  \\\n",
              "0  http://dbpedia.org/class/yago/Abstraction10000...   \n",
              "1  http://dbpedia.org/class/yago/Abstraction10000...   \n",
              "2  http://dbpedia.org/class/yago/Artifact10002193...   \n",
              "3  http://dbpedia.org/class/yago/Abstraction10000...   \n",
              "4  http://dbpedia.org/class/yago/Abstraction10000...   \n",
              "\n",
              "                                  category  \n",
              "0                    [Implants_(medicine)]  \n",
              "1          [Regulation_of_medical_devices]  \n",
              "2  [Implants_(medicine), Neuroprosthetics]  \n",
              "3          [Regulation_of_medical_devices]  \n",
              "4    [Drug_delivery_devices, Nasal_sprays]  "
            ]
          },
          "execution_count": 103,
          "metadata": {},
          "output_type": "execute_result"
        }
      ]
    },
    {
      "cell_type": "code",
      "metadata": {
        "id": "stupid-subscriber",
        "outputId": "919ab525-11e0-43ce-8801-331f9f946375"
      },
      "source": [
        "#Checking for the new column created\n",
        "df_new['category'][2]"
      ],
      "id": "stupid-subscriber",
      "execution_count": null,
      "outputs": [
        {
          "data": {
            "text/plain": [
              "['Implants_(medicine)', 'Neuroprosthetics']"
            ]
          },
          "execution_count": 104,
          "metadata": {},
          "output_type": "execute_result"
        }
      ]
    },
    {
      "cell_type": "code",
      "metadata": {
        "id": "later-literature"
      },
      "source": [
        "# Defining a function to unpack the devices category names from the list in the category column values\n",
        "def join_words(df):\n",
        "    \n",
        "    words_string= ','.join(df.category)\n",
        "\n",
        "    return words_string"
      ],
      "id": "later-literature",
      "execution_count": null,
      "outputs": []
    },
    {
      "cell_type": "code",
      "metadata": {
        "id": "previous-yahoo"
      },
      "source": [
        "#Applying the function to the catgeory column\n",
        "df_new['categories'] = df_new.apply(join_words, axis=1)"
      ],
      "id": "previous-yahoo",
      "execution_count": null,
      "outputs": []
    },
    {
      "cell_type": "code",
      "metadata": {
        "id": "going-praise",
        "outputId": "e00cc283-0d29-42e0-dd0c-e5ee72ed8c15"
      },
      "source": [
        "#Checking the values after appplying the function\n",
        "df_new['categories'][2]"
      ],
      "id": "going-praise",
      "execution_count": null,
      "outputs": [
        {
          "data": {
            "text/plain": [
              "'Implants_(medicine),Neuroprosthetics'"
            ]
          },
          "execution_count": 107,
          "metadata": {},
          "output_type": "execute_result"
        }
      ]
    },
    {
      "cell_type": "code",
      "metadata": {
        "id": "encouraging-moment",
        "outputId": "45e84eb9-fe1f-4d78-eb58-8b8945ade8c2"
      },
      "source": [
        "#Checking the column values for further cleaning of the data.\n",
        "df_new.head()"
      ],
      "id": "encouraging-moment",
      "execution_count": null,
      "outputs": [
        {
          "data": {
            "text/html": [
              "<div>\n",
              "<style scoped>\n",
              "    .dataframe tbody tr th:only-of-type {\n",
              "        vertical-align: middle;\n",
              "    }\n",
              "\n",
              "    .dataframe tbody tr th {\n",
              "        vertical-align: top;\n",
              "    }\n",
              "\n",
              "    .dataframe thead th {\n",
              "        text-align: right;\n",
              "    }\n",
              "</style>\n",
              "<table border=\"1\" class=\"dataframe\">\n",
              "  <thead>\n",
              "    <tr style=\"text-align: right;\">\n",
              "      <th></th>\n",
              "      <th>instance.value</th>\n",
              "      <th>label.value</th>\n",
              "      <th>comment.value</th>\n",
              "      <th>abstract.value</th>\n",
              "      <th>wikicategories.value</th>\n",
              "      <th>DBpediaOntology.value</th>\n",
              "      <th>category</th>\n",
              "      <th>categories</th>\n",
              "    </tr>\n",
              "  </thead>\n",
              "  <tbody>\n",
              "    <tr>\n",
              "      <th>0</th>\n",
              "      <td>http://dbpedia.org/resource/Implantable_loop_r...</td>\n",
              "      <td>Implantable loop recorder</td>\n",
              "      <td>An implantable loop recorder (ILR), also known...</td>\n",
              "      <td>An implantable loop recorder (ILR), also known...</td>\n",
              "      <td>http://dbpedia.org/resource/Category:Implants_...</td>\n",
              "      <td>http://dbpedia.org/class/yago/Abstraction10000...</td>\n",
              "      <td>[Implants_(medicine)]</td>\n",
              "      <td>Implants_(medicine)</td>\n",
              "    </tr>\n",
              "    <tr>\n",
              "      <th>1</th>\n",
              "      <td>http://dbpedia.org/resource/Health_Canada</td>\n",
              "      <td>Health Canada</td>\n",
              "      <td>Health Canada (HC; French: Santé Canada, SC) i...</td>\n",
              "      <td>Health Canada (HC; French: Santé Canada, SC) i...</td>\n",
              "      <td>http://dbpedia.org/resource/Category:Regulatio...</td>\n",
              "      <td>http://dbpedia.org/class/yago/Abstraction10000...</td>\n",
              "      <td>[Regulation_of_medical_devices]</td>\n",
              "      <td>Regulation_of_medical_devices</td>\n",
              "    </tr>\n",
              "    <tr>\n",
              "      <th>2</th>\n",
              "      <td>http://dbpedia.org/resource/Visual_prosthesis</td>\n",
              "      <td>Visual prosthesis</td>\n",
              "      <td>A visual prosthesis, often referred to as a bi...</td>\n",
              "      <td>A visual prosthesis, often referred to as a bi...</td>\n",
              "      <td>http://dbpedia.org/resource/Category:Implants_...</td>\n",
              "      <td>http://dbpedia.org/class/yago/Artifact10002193...</td>\n",
              "      <td>[Implants_(medicine), Neuroprosthetics]</td>\n",
              "      <td>Implants_(medicine),Neuroprosthetics</td>\n",
              "    </tr>\n",
              "    <tr>\n",
              "      <th>3</th>\n",
              "      <td>http://dbpedia.org/resource/Medical_Devices_Di...</td>\n",
              "      <td>Medical Devices Directive</td>\n",
              "      <td>The Medical Device Directive (Council Directiv...</td>\n",
              "      <td>The Medical Device Directive (Council Directiv...</td>\n",
              "      <td>http://dbpedia.org/resource/Category:Regulatio...</td>\n",
              "      <td>http://dbpedia.org/class/yago/Abstraction10000...</td>\n",
              "      <td>[Regulation_of_medical_devices]</td>\n",
              "      <td>Regulation_of_medical_devices</td>\n",
              "    </tr>\n",
              "    <tr>\n",
              "      <th>4</th>\n",
              "      <td>http://dbpedia.org/resource/Nasal_spray</td>\n",
              "      <td>Nasal spray</td>\n",
              "      <td>Nasal sprays are used to deliver medications l...</td>\n",
              "      <td>Nasal sprays are used to deliver medications l...</td>\n",
              "      <td>http://dbpedia.org/resource/Category:Drug_deli...</td>\n",
              "      <td>http://dbpedia.org/class/yago/Abstraction10000...</td>\n",
              "      <td>[Drug_delivery_devices, Nasal_sprays]</td>\n",
              "      <td>Drug_delivery_devices,Nasal_sprays</td>\n",
              "    </tr>\n",
              "  </tbody>\n",
              "</table>\n",
              "</div>"
            ],
            "text/plain": [
              "                                      instance.value  \\\n",
              "0  http://dbpedia.org/resource/Implantable_loop_r...   \n",
              "1          http://dbpedia.org/resource/Health_Canada   \n",
              "2      http://dbpedia.org/resource/Visual_prosthesis   \n",
              "3  http://dbpedia.org/resource/Medical_Devices_Di...   \n",
              "4            http://dbpedia.org/resource/Nasal_spray   \n",
              "\n",
              "                 label.value  \\\n",
              "0  Implantable loop recorder   \n",
              "1              Health Canada   \n",
              "2          Visual prosthesis   \n",
              "3  Medical Devices Directive   \n",
              "4                Nasal spray   \n",
              "\n",
              "                                       comment.value  \\\n",
              "0  An implantable loop recorder (ILR), also known...   \n",
              "1  Health Canada (HC; French: Santé Canada, SC) i...   \n",
              "2  A visual prosthesis, often referred to as a bi...   \n",
              "3  The Medical Device Directive (Council Directiv...   \n",
              "4  Nasal sprays are used to deliver medications l...   \n",
              "\n",
              "                                      abstract.value  \\\n",
              "0  An implantable loop recorder (ILR), also known...   \n",
              "1  Health Canada (HC; French: Santé Canada, SC) i...   \n",
              "2  A visual prosthesis, often referred to as a bi...   \n",
              "3  The Medical Device Directive (Council Directiv...   \n",
              "4  Nasal sprays are used to deliver medications l...   \n",
              "\n",
              "                                wikicategories.value  \\\n",
              "0  http://dbpedia.org/resource/Category:Implants_...   \n",
              "1  http://dbpedia.org/resource/Category:Regulatio...   \n",
              "2  http://dbpedia.org/resource/Category:Implants_...   \n",
              "3  http://dbpedia.org/resource/Category:Regulatio...   \n",
              "4  http://dbpedia.org/resource/Category:Drug_deli...   \n",
              "\n",
              "                               DBpediaOntology.value  \\\n",
              "0  http://dbpedia.org/class/yago/Abstraction10000...   \n",
              "1  http://dbpedia.org/class/yago/Abstraction10000...   \n",
              "2  http://dbpedia.org/class/yago/Artifact10002193...   \n",
              "3  http://dbpedia.org/class/yago/Abstraction10000...   \n",
              "4  http://dbpedia.org/class/yago/Abstraction10000...   \n",
              "\n",
              "                                  category  \\\n",
              "0                    [Implants_(medicine)]   \n",
              "1          [Regulation_of_medical_devices]   \n",
              "2  [Implants_(medicine), Neuroprosthetics]   \n",
              "3          [Regulation_of_medical_devices]   \n",
              "4    [Drug_delivery_devices, Nasal_sprays]   \n",
              "\n",
              "                             categories  \n",
              "0                   Implants_(medicine)  \n",
              "1         Regulation_of_medical_devices  \n",
              "2  Implants_(medicine),Neuroprosthetics  \n",
              "3         Regulation_of_medical_devices  \n",
              "4    Drug_delivery_devices,Nasal_sprays  "
            ]
          },
          "execution_count": 108,
          "metadata": {},
          "output_type": "execute_result"
        }
      ]
    },
    {
      "cell_type": "code",
      "metadata": {
        "id": "dirty-framework",
        "outputId": "e258373e-94a5-4afd-a155-f372337f6a58"
      },
      "source": [
        "# checking the counts of the categories column values\n",
        "df_new['categories'].value_counts()"
      ],
      "id": "dirty-framework",
      "execution_count": null,
      "outputs": [
        {
          "data": {
            "text/plain": [
              "Implants_(medicine)                                                75\n",
              "Drug_delivery_devices                                              66\n",
              "Biomaterials                                                       48\n",
              "Medical_device_manufacturers                                       29\n",
              "Mobility_devices                                                   26\n",
              "Cyborgs_in_fiction                                                 25\n",
              "Brain–computer_interfacing                                         25\n",
              "Regulation_of_medical_devices                                      22\n",
              "Cyborgs                                                            13\n",
              "Wheelchairs                                                        11\n",
              "Implants_(medicine),Neuroprosthetics                               11\n",
              "Prosthetic_manufacturers                                           10\n",
              "Transdermal_patches                                                 7\n",
              "Medical_transport_devices                                           6\n",
              "Biomaterials,Implants_(medicine)                                    6\n",
              "Implants_(medicine),Orthopedic_implants                             4\n",
              "Neuroprosthetics                                                    4\n",
              "Orthopedic_implants                                                 4\n",
              "Medical_masks                                                       4\n",
              "Tinctures                                                           4\n",
              "Brain–computer_interfacing,Implants_(medicine),Neuroprosthetics     4\n",
              "Boston_Scientific_people                                            3\n",
              "Face_masks_during_the_COVID-19_pandemic,Medical_masks               2\n",
              "Brain–computer_interfacing,Neuroprosthetics                         2\n",
              "Cyborgs,Implants_(medicine)                                         2\n",
              "Orthopedic_screws                                                   2\n",
              "Mobility_devices,Wheelchairs                                        2\n",
              "Nasal_sprays                                                        2\n",
              "Boston_Scientific,Implants_(medicine)                               2\n",
              "Drug_delivery_devices,Implants_(medicine)                           1\n",
              "Drug_delivery_devices,Nasal_sprays                                  1\n",
              "Drug_delivery_devices,Transdermal_patches                           1\n",
              "Implants_(medicine),Regulation_of_medical_devices                   1\n",
              "Implants_(medicine),Prosthetic_manufacturers                        1\n",
              "Biomaterials,Drug_delivery_devices                                  1\n",
              "Name: categories, dtype: int64"
            ]
          },
          "execution_count": 109,
          "metadata": {},
          "output_type": "execute_result"
        }
      ]
    },
    {
      "cell_type": "code",
      "metadata": {
        "id": "postal-austria"
      },
      "source": [
        "#Removing of '_' in the data-frame.\n",
        "df_new =df_new.replace('_', ' ', regex=True)"
      ],
      "id": "postal-austria",
      "execution_count": null,
      "outputs": []
    },
    {
      "cell_type": "code",
      "metadata": {
        "id": "approximate-repository"
      },
      "source": [
        "#Dropping the unwanted columns again.\n",
        "df_new.rename(columns = {'label.value':'Name','abstract.value':'Description','categories':'Category'}, inplace = True)\n",
        "medical_devices_data = df_new.drop(['DBpediaOntology.value','wikicategories.value','comment.value','instance.value','category'],axis=1)"
      ],
      "id": "approximate-repository",
      "execution_count": null,
      "outputs": []
    },
    {
      "cell_type": "code",
      "metadata": {
        "id": "agreed-portable",
        "outputId": "48806e6d-9386-4f42-e8a1-37d44b0c916b"
      },
      "source": [
        "#Checking the contents for the new data-frame.\n",
        "medical_devices_data.head()\n"
      ],
      "id": "agreed-portable",
      "execution_count": null,
      "outputs": [
        {
          "data": {
            "text/html": [
              "<div>\n",
              "<style scoped>\n",
              "    .dataframe tbody tr th:only-of-type {\n",
              "        vertical-align: middle;\n",
              "    }\n",
              "\n",
              "    .dataframe tbody tr th {\n",
              "        vertical-align: top;\n",
              "    }\n",
              "\n",
              "    .dataframe thead th {\n",
              "        text-align: right;\n",
              "    }\n",
              "</style>\n",
              "<table border=\"1\" class=\"dataframe\">\n",
              "  <thead>\n",
              "    <tr style=\"text-align: right;\">\n",
              "      <th></th>\n",
              "      <th>Name</th>\n",
              "      <th>Description</th>\n",
              "      <th>Category</th>\n",
              "    </tr>\n",
              "  </thead>\n",
              "  <tbody>\n",
              "    <tr>\n",
              "      <th>0</th>\n",
              "      <td>Implantable loop recorder</td>\n",
              "      <td>An implantable loop recorder (ILR), also known...</td>\n",
              "      <td>Implants (medicine)</td>\n",
              "    </tr>\n",
              "    <tr>\n",
              "      <th>1</th>\n",
              "      <td>Health Canada</td>\n",
              "      <td>Health Canada (HC; French: Santé Canada, SC) i...</td>\n",
              "      <td>Regulation of medical devices</td>\n",
              "    </tr>\n",
              "    <tr>\n",
              "      <th>2</th>\n",
              "      <td>Visual prosthesis</td>\n",
              "      <td>A visual prosthesis, often referred to as a bi...</td>\n",
              "      <td>Implants (medicine),Neuroprosthetics</td>\n",
              "    </tr>\n",
              "    <tr>\n",
              "      <th>3</th>\n",
              "      <td>Medical Devices Directive</td>\n",
              "      <td>The Medical Device Directive (Council Directiv...</td>\n",
              "      <td>Regulation of medical devices</td>\n",
              "    </tr>\n",
              "    <tr>\n",
              "      <th>4</th>\n",
              "      <td>Nasal spray</td>\n",
              "      <td>Nasal sprays are used to deliver medications l...</td>\n",
              "      <td>Drug delivery devices,Nasal sprays</td>\n",
              "    </tr>\n",
              "  </tbody>\n",
              "</table>\n",
              "</div>"
            ],
            "text/plain": [
              "                        Name  \\\n",
              "0  Implantable loop recorder   \n",
              "1              Health Canada   \n",
              "2          Visual prosthesis   \n",
              "3  Medical Devices Directive   \n",
              "4                Nasal spray   \n",
              "\n",
              "                                         Description  \\\n",
              "0  An implantable loop recorder (ILR), also known...   \n",
              "1  Health Canada (HC; French: Santé Canada, SC) i...   \n",
              "2  A visual prosthesis, often referred to as a bi...   \n",
              "3  The Medical Device Directive (Council Directiv...   \n",
              "4  Nasal sprays are used to deliver medications l...   \n",
              "\n",
              "                               Category  \n",
              "0                   Implants (medicine)  \n",
              "1         Regulation of medical devices  \n",
              "2  Implants (medicine),Neuroprosthetics  \n",
              "3         Regulation of medical devices  \n",
              "4    Drug delivery devices,Nasal sprays  "
            ]
          },
          "execution_count": 112,
          "metadata": {},
          "output_type": "execute_result"
        }
      ]
    },
    {
      "cell_type": "code",
      "metadata": {
        "id": "above-fairy"
      },
      "source": [
        "#Saving the dataframe into .csv file.\n",
        "medical_devices_data.to_csv('med_devs_clean_data.csv', index = False)"
      ],
      "id": "above-fairy",
      "execution_count": null,
      "outputs": []
    }
  ]
}